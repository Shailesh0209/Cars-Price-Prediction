{
 "cells": [
  {
   "cell_type": "code",
   "execution_count": 1,
   "id": "b5cbcd9b",
   "metadata": {
    "_cell_guid": "b1076dfc-b9ad-4769-8c92-a6c4dae69d19",
    "_uuid": "8f2839f25d086af736a60e9eeb907d3b93b6e0e5",
    "execution": {
     "iopub.execute_input": "2023-01-17T10:07:04.276258Z",
     "iopub.status.busy": "2023-01-17T10:07:04.275830Z",
     "iopub.status.idle": "2023-01-17T10:07:04.294660Z",
     "shell.execute_reply": "2023-01-17T10:07:04.293849Z"
    },
    "papermill": {
     "duration": 0.036027,
     "end_time": "2023-01-17T10:07:04.296677",
     "exception": false,
     "start_time": "2023-01-17T10:07:04.260650",
     "status": "completed"
    },
    "tags": []
   },
   "outputs": [
    {
     "name": "stdout",
     "output_type": "stream",
     "text": [
      "/kaggle/input/car-selling-price-prediction-dataset/Car details.csv\n"
     ]
    }
   ],
   "source": [
    "# This Python 3 environment comes with many helpful analytics libraries installed\n",
    "# It is defined by the kaggle/python Docker image: https://github.com/kaggle/docker-python\n",
    "# For example, here's several helpful packages to load\n",
    "\n",
    "import numpy as np # linear algebra\n",
    "import pandas as pd # data processing, CSV file I/O (e.g. pd.read_csv)\n",
    "\n",
    "# Input data files are available in the read-only \"../input/\" directory\n",
    "# For example, running this (by clicking run or pressing Shift+Enter) will list all files under the input directory\n",
    "\n",
    "import os\n",
    "for dirname, _, filenames in os.walk('/kaggle/input'):\n",
    "    for filename in filenames:\n",
    "        print(os.path.join(dirname, filename))\n",
    "\n",
    "# You can write up to 20GB to the current directory (/kaggle/working/) that gets preserved as output when you create a version using \"Save & Run All\" \n",
    "# You can also write temporary files to /kaggle/temp/, but they won't be saved outside of the current session"
   ]
  },
  {
   "cell_type": "markdown",
   "id": "c8c2bd4b",
   "metadata": {
    "papermill": {
     "duration": 0.011241,
     "end_time": "2023-01-17T10:07:04.320580",
     "exception": false,
     "start_time": "2023-01-17T10:07:04.309339",
     "status": "completed"
    },
    "tags": []
   },
   "source": [
    "# Car Prices Prediction of Used Cars"
   ]
  },
  {
   "cell_type": "markdown",
   "id": "cf47077b",
   "metadata": {
    "papermill": {
     "duration": 0.011319,
     "end_time": "2023-01-17T10:07:04.343821",
     "exception": false,
     "start_time": "2023-01-17T10:07:04.332502",
     "status": "completed"
    },
    "tags": []
   },
   "source": [
    "## Imports"
   ]
  },
  {
   "cell_type": "code",
   "execution_count": 2,
   "id": "5620b3d7",
   "metadata": {
    "execution": {
     "iopub.execute_input": "2023-01-17T10:07:04.369388Z",
     "iopub.status.busy": "2023-01-17T10:07:04.369077Z",
     "iopub.status.idle": "2023-01-17T10:07:05.435260Z",
     "shell.execute_reply": "2023-01-17T10:07:05.434378Z"
    },
    "papermill": {
     "duration": 1.082418,
     "end_time": "2023-01-17T10:07:05.437449",
     "exception": false,
     "start_time": "2023-01-17T10:07:04.355031",
     "status": "completed"
    },
    "tags": []
   },
   "outputs": [],
   "source": [
    "import numpy as np\n",
    "import pandas as pd\n",
    "import seaborn as sns\n",
    "import matplotlib.pyplot as plt\n",
    "%matplotlib inline"
   ]
  },
  {
   "cell_type": "code",
   "execution_count": 3,
   "id": "99f96beb",
   "metadata": {
    "execution": {
     "iopub.execute_input": "2023-01-17T10:07:05.463152Z",
     "iopub.status.busy": "2023-01-17T10:07:05.462849Z",
     "iopub.status.idle": "2023-01-17T10:07:05.541697Z",
     "shell.execute_reply": "2023-01-17T10:07:05.540858Z"
    },
    "papermill": {
     "duration": 0.094052,
     "end_time": "2023-01-17T10:07:05.543511",
     "exception": false,
     "start_time": "2023-01-17T10:07:05.449459",
     "status": "completed"
    },
    "tags": []
   },
   "outputs": [
    {
     "data": {
      "text/html": [
       "<div>\n",
       "<style scoped>\n",
       "    .dataframe tbody tr th:only-of-type {\n",
       "        vertical-align: middle;\n",
       "    }\n",
       "\n",
       "    .dataframe tbody tr th {\n",
       "        vertical-align: top;\n",
       "    }\n",
       "\n",
       "    .dataframe thead th {\n",
       "        text-align: right;\n",
       "    }\n",
       "</style>\n",
       "<table border=\"1\" class=\"dataframe\">\n",
       "  <thead>\n",
       "    <tr style=\"text-align: right;\">\n",
       "      <th></th>\n",
       "      <th>name</th>\n",
       "      <th>year</th>\n",
       "      <th>selling_price</th>\n",
       "      <th>km_driven</th>\n",
       "      <th>fuel</th>\n",
       "      <th>seller_type</th>\n",
       "      <th>transmission</th>\n",
       "      <th>owner</th>\n",
       "      <th>mileage</th>\n",
       "      <th>engine</th>\n",
       "      <th>max_power</th>\n",
       "      <th>torque</th>\n",
       "      <th>seats</th>\n",
       "    </tr>\n",
       "  </thead>\n",
       "  <tbody>\n",
       "    <tr>\n",
       "      <th>0</th>\n",
       "      <td>Maruti Swift Dzire VDI</td>\n",
       "      <td>2014</td>\n",
       "      <td>450000</td>\n",
       "      <td>145500</td>\n",
       "      <td>Diesel</td>\n",
       "      <td>Individual</td>\n",
       "      <td>Manual</td>\n",
       "      <td>First Owner</td>\n",
       "      <td>23.4 kmpl</td>\n",
       "      <td>1248 CC</td>\n",
       "      <td>74 bhp</td>\n",
       "      <td>190Nm@ 2000rpm</td>\n",
       "      <td>5.0</td>\n",
       "    </tr>\n",
       "    <tr>\n",
       "      <th>1</th>\n",
       "      <td>Skoda Rapid 1.5 TDI Ambition</td>\n",
       "      <td>2014</td>\n",
       "      <td>370000</td>\n",
       "      <td>120000</td>\n",
       "      <td>Diesel</td>\n",
       "      <td>Individual</td>\n",
       "      <td>Manual</td>\n",
       "      <td>Second Owner</td>\n",
       "      <td>21.14 kmpl</td>\n",
       "      <td>1498 CC</td>\n",
       "      <td>103.52 bhp</td>\n",
       "      <td>250Nm@ 1500-2500rpm</td>\n",
       "      <td>5.0</td>\n",
       "    </tr>\n",
       "    <tr>\n",
       "      <th>2</th>\n",
       "      <td>Honda City 2017-2020 EXi</td>\n",
       "      <td>2006</td>\n",
       "      <td>158000</td>\n",
       "      <td>140000</td>\n",
       "      <td>Petrol</td>\n",
       "      <td>Individual</td>\n",
       "      <td>Manual</td>\n",
       "      <td>Third Owner</td>\n",
       "      <td>17.7 kmpl</td>\n",
       "      <td>1497 CC</td>\n",
       "      <td>78 bhp</td>\n",
       "      <td>12.7@ 2,700(kgm@ rpm)</td>\n",
       "      <td>5.0</td>\n",
       "    </tr>\n",
       "    <tr>\n",
       "      <th>3</th>\n",
       "      <td>Hyundai i20 Sportz Diesel</td>\n",
       "      <td>2010</td>\n",
       "      <td>225000</td>\n",
       "      <td>127000</td>\n",
       "      <td>Diesel</td>\n",
       "      <td>Individual</td>\n",
       "      <td>Manual</td>\n",
       "      <td>First Owner</td>\n",
       "      <td>23.0 kmpl</td>\n",
       "      <td>1396 CC</td>\n",
       "      <td>90 bhp</td>\n",
       "      <td>22.4 kgm at 1750-2750rpm</td>\n",
       "      <td>5.0</td>\n",
       "    </tr>\n",
       "    <tr>\n",
       "      <th>4</th>\n",
       "      <td>Maruti Swift VXI BSIII</td>\n",
       "      <td>2007</td>\n",
       "      <td>130000</td>\n",
       "      <td>120000</td>\n",
       "      <td>Petrol</td>\n",
       "      <td>Individual</td>\n",
       "      <td>Manual</td>\n",
       "      <td>First Owner</td>\n",
       "      <td>16.1 kmpl</td>\n",
       "      <td>1298 CC</td>\n",
       "      <td>88.2 bhp</td>\n",
       "      <td>11.5@ 4,500(kgm@ rpm)</td>\n",
       "      <td>5.0</td>\n",
       "    </tr>\n",
       "    <tr>\n",
       "      <th>5</th>\n",
       "      <td>Hyundai Xcent 1.2 VTVT E Plus</td>\n",
       "      <td>2017</td>\n",
       "      <td>440000</td>\n",
       "      <td>45000</td>\n",
       "      <td>Petrol</td>\n",
       "      <td>Individual</td>\n",
       "      <td>Manual</td>\n",
       "      <td>First Owner</td>\n",
       "      <td>20.14 kmpl</td>\n",
       "      <td>1197 CC</td>\n",
       "      <td>81.86 bhp</td>\n",
       "      <td>113.75nm@ 4000rpm</td>\n",
       "      <td>5.0</td>\n",
       "    </tr>\n",
       "    <tr>\n",
       "      <th>6</th>\n",
       "      <td>Maruti Wagon R LXI DUO BSIII</td>\n",
       "      <td>2007</td>\n",
       "      <td>96000</td>\n",
       "      <td>175000</td>\n",
       "      <td>LPG</td>\n",
       "      <td>Individual</td>\n",
       "      <td>Manual</td>\n",
       "      <td>First Owner</td>\n",
       "      <td>17.3 km/kg</td>\n",
       "      <td>1061 CC</td>\n",
       "      <td>57.5 bhp</td>\n",
       "      <td>7.8@ 4,500(kgm@ rpm)</td>\n",
       "      <td>5.0</td>\n",
       "    </tr>\n",
       "    <tr>\n",
       "      <th>7</th>\n",
       "      <td>Maruti 800 DX BSII</td>\n",
       "      <td>2001</td>\n",
       "      <td>45000</td>\n",
       "      <td>5000</td>\n",
       "      <td>Petrol</td>\n",
       "      <td>Individual</td>\n",
       "      <td>Manual</td>\n",
       "      <td>Second Owner</td>\n",
       "      <td>16.1 kmpl</td>\n",
       "      <td>796 CC</td>\n",
       "      <td>37 bhp</td>\n",
       "      <td>59Nm@ 2500rpm</td>\n",
       "      <td>4.0</td>\n",
       "    </tr>\n",
       "    <tr>\n",
       "      <th>8</th>\n",
       "      <td>Toyota Etios VXD</td>\n",
       "      <td>2011</td>\n",
       "      <td>350000</td>\n",
       "      <td>90000</td>\n",
       "      <td>Diesel</td>\n",
       "      <td>Individual</td>\n",
       "      <td>Manual</td>\n",
       "      <td>First Owner</td>\n",
       "      <td>23.59 kmpl</td>\n",
       "      <td>1364 CC</td>\n",
       "      <td>67.1 bhp</td>\n",
       "      <td>170Nm@ 1800-2400rpm</td>\n",
       "      <td>5.0</td>\n",
       "    </tr>\n",
       "    <tr>\n",
       "      <th>9</th>\n",
       "      <td>Ford Figo Diesel Celebration Edition</td>\n",
       "      <td>2013</td>\n",
       "      <td>200000</td>\n",
       "      <td>169000</td>\n",
       "      <td>Diesel</td>\n",
       "      <td>Individual</td>\n",
       "      <td>Manual</td>\n",
       "      <td>First Owner</td>\n",
       "      <td>20.0 kmpl</td>\n",
       "      <td>1399 CC</td>\n",
       "      <td>68.1 bhp</td>\n",
       "      <td>160Nm@ 2000rpm</td>\n",
       "      <td>5.0</td>\n",
       "    </tr>\n",
       "  </tbody>\n",
       "</table>\n",
       "</div>"
      ],
      "text/plain": [
       "                                   name  year  selling_price  km_driven  \\\n",
       "0                Maruti Swift Dzire VDI  2014         450000     145500   \n",
       "1          Skoda Rapid 1.5 TDI Ambition  2014         370000     120000   \n",
       "2              Honda City 2017-2020 EXi  2006         158000     140000   \n",
       "3             Hyundai i20 Sportz Diesel  2010         225000     127000   \n",
       "4                Maruti Swift VXI BSIII  2007         130000     120000   \n",
       "5         Hyundai Xcent 1.2 VTVT E Plus  2017         440000      45000   \n",
       "6          Maruti Wagon R LXI DUO BSIII  2007          96000     175000   \n",
       "7                    Maruti 800 DX BSII  2001          45000       5000   \n",
       "8                      Toyota Etios VXD  2011         350000      90000   \n",
       "9  Ford Figo Diesel Celebration Edition  2013         200000     169000   \n",
       "\n",
       "     fuel seller_type transmission         owner     mileage   engine  \\\n",
       "0  Diesel  Individual       Manual   First Owner   23.4 kmpl  1248 CC   \n",
       "1  Diesel  Individual       Manual  Second Owner  21.14 kmpl  1498 CC   \n",
       "2  Petrol  Individual       Manual   Third Owner   17.7 kmpl  1497 CC   \n",
       "3  Diesel  Individual       Manual   First Owner   23.0 kmpl  1396 CC   \n",
       "4  Petrol  Individual       Manual   First Owner   16.1 kmpl  1298 CC   \n",
       "5  Petrol  Individual       Manual   First Owner  20.14 kmpl  1197 CC   \n",
       "6     LPG  Individual       Manual   First Owner  17.3 km/kg  1061 CC   \n",
       "7  Petrol  Individual       Manual  Second Owner   16.1 kmpl   796 CC   \n",
       "8  Diesel  Individual       Manual   First Owner  23.59 kmpl  1364 CC   \n",
       "9  Diesel  Individual       Manual   First Owner   20.0 kmpl  1399 CC   \n",
       "\n",
       "    max_power                    torque  seats  \n",
       "0      74 bhp            190Nm@ 2000rpm    5.0  \n",
       "1  103.52 bhp       250Nm@ 1500-2500rpm    5.0  \n",
       "2      78 bhp     12.7@ 2,700(kgm@ rpm)    5.0  \n",
       "3      90 bhp  22.4 kgm at 1750-2750rpm    5.0  \n",
       "4    88.2 bhp     11.5@ 4,500(kgm@ rpm)    5.0  \n",
       "5   81.86 bhp         113.75nm@ 4000rpm    5.0  \n",
       "6    57.5 bhp      7.8@ 4,500(kgm@ rpm)    5.0  \n",
       "7      37 bhp             59Nm@ 2500rpm    4.0  \n",
       "8    67.1 bhp       170Nm@ 1800-2400rpm    5.0  \n",
       "9    68.1 bhp            160Nm@ 2000rpm    5.0  "
      ]
     },
     "execution_count": 3,
     "metadata": {},
     "output_type": "execute_result"
    }
   ],
   "source": [
    "cars = pd.read_csv(\"/kaggle/input/car-selling-price-prediction-dataset/Car details.csv\")\n",
    "cars.head(10)"
   ]
  },
  {
   "cell_type": "code",
   "execution_count": 4,
   "id": "c6049024",
   "metadata": {
    "execution": {
     "iopub.execute_input": "2023-01-17T10:07:05.569808Z",
     "iopub.status.busy": "2023-01-17T10:07:05.569231Z",
     "iopub.status.idle": "2023-01-17T10:07:05.574655Z",
     "shell.execute_reply": "2023-01-17T10:07:05.573956Z"
    },
    "papermill": {
     "duration": 0.020425,
     "end_time": "2023-01-17T10:07:05.576243",
     "exception": false,
     "start_time": "2023-01-17T10:07:05.555818",
     "status": "completed"
    },
    "tags": []
   },
   "outputs": [
    {
     "data": {
      "text/plain": [
       "(8128, 13)"
      ]
     },
     "execution_count": 4,
     "metadata": {},
     "output_type": "execute_result"
    }
   ],
   "source": [
    "cars.shape"
   ]
  },
  {
   "cell_type": "code",
   "execution_count": 5,
   "id": "a3a34b49",
   "metadata": {
    "execution": {
     "iopub.execute_input": "2023-01-17T10:07:05.602449Z",
     "iopub.status.busy": "2023-01-17T10:07:05.601995Z",
     "iopub.status.idle": "2023-01-17T10:07:05.629830Z",
     "shell.execute_reply": "2023-01-17T10:07:05.629002Z"
    },
    "papermill": {
     "duration": 0.045362,
     "end_time": "2023-01-17T10:07:05.633775",
     "exception": false,
     "start_time": "2023-01-17T10:07:05.588413",
     "status": "completed"
    },
    "tags": []
   },
   "outputs": [
    {
     "name": "stdout",
     "output_type": "stream",
     "text": [
      "<class 'pandas.core.frame.DataFrame'>\n",
      "RangeIndex: 8128 entries, 0 to 8127\n",
      "Data columns (total 13 columns):\n",
      " #   Column         Non-Null Count  Dtype  \n",
      "---  ------         --------------  -----  \n",
      " 0   name           8128 non-null   object \n",
      " 1   year           8128 non-null   int64  \n",
      " 2   selling_price  8128 non-null   int64  \n",
      " 3   km_driven      8128 non-null   int64  \n",
      " 4   fuel           8128 non-null   object \n",
      " 5   seller_type    8128 non-null   object \n",
      " 6   transmission   8128 non-null   object \n",
      " 7   owner          8128 non-null   object \n",
      " 8   mileage        7907 non-null   object \n",
      " 9   engine         7907 non-null   object \n",
      " 10  max_power      7913 non-null   object \n",
      " 11  torque         7906 non-null   object \n",
      " 12  seats          7907 non-null   float64\n",
      "dtypes: float64(1), int64(3), object(9)\n",
      "memory usage: 825.6+ KB\n"
     ]
    }
   ],
   "source": [
    "cars.info()"
   ]
  },
  {
   "cell_type": "code",
   "execution_count": 6,
   "id": "18714753",
   "metadata": {
    "execution": {
     "iopub.execute_input": "2023-01-17T10:07:05.662411Z",
     "iopub.status.busy": "2023-01-17T10:07:05.660807Z",
     "iopub.status.idle": "2023-01-17T10:07:05.685677Z",
     "shell.execute_reply": "2023-01-17T10:07:05.685027Z"
    },
    "papermill": {
     "duration": 0.04048,
     "end_time": "2023-01-17T10:07:05.687468",
     "exception": false,
     "start_time": "2023-01-17T10:07:05.646988",
     "status": "completed"
    },
    "tags": []
   },
   "outputs": [
    {
     "data": {
      "text/html": [
       "<div>\n",
       "<style scoped>\n",
       "    .dataframe tbody tr th:only-of-type {\n",
       "        vertical-align: middle;\n",
       "    }\n",
       "\n",
       "    .dataframe tbody tr th {\n",
       "        vertical-align: top;\n",
       "    }\n",
       "\n",
       "    .dataframe thead th {\n",
       "        text-align: right;\n",
       "    }\n",
       "</style>\n",
       "<table border=\"1\" class=\"dataframe\">\n",
       "  <thead>\n",
       "    <tr style=\"text-align: right;\">\n",
       "      <th></th>\n",
       "      <th>year</th>\n",
       "      <th>selling_price</th>\n",
       "      <th>km_driven</th>\n",
       "      <th>seats</th>\n",
       "    </tr>\n",
       "  </thead>\n",
       "  <tbody>\n",
       "    <tr>\n",
       "      <th>count</th>\n",
       "      <td>8128.000000</td>\n",
       "      <td>8.128000e+03</td>\n",
       "      <td>8.128000e+03</td>\n",
       "      <td>7907.000000</td>\n",
       "    </tr>\n",
       "    <tr>\n",
       "      <th>mean</th>\n",
       "      <td>2013.804011</td>\n",
       "      <td>6.382718e+05</td>\n",
       "      <td>6.981951e+04</td>\n",
       "      <td>5.416719</td>\n",
       "    </tr>\n",
       "    <tr>\n",
       "      <th>std</th>\n",
       "      <td>4.044249</td>\n",
       "      <td>8.062534e+05</td>\n",
       "      <td>5.655055e+04</td>\n",
       "      <td>0.959588</td>\n",
       "    </tr>\n",
       "    <tr>\n",
       "      <th>min</th>\n",
       "      <td>1983.000000</td>\n",
       "      <td>2.999900e+04</td>\n",
       "      <td>1.000000e+00</td>\n",
       "      <td>2.000000</td>\n",
       "    </tr>\n",
       "    <tr>\n",
       "      <th>25%</th>\n",
       "      <td>2011.000000</td>\n",
       "      <td>2.549990e+05</td>\n",
       "      <td>3.500000e+04</td>\n",
       "      <td>5.000000</td>\n",
       "    </tr>\n",
       "    <tr>\n",
       "      <th>50%</th>\n",
       "      <td>2015.000000</td>\n",
       "      <td>4.500000e+05</td>\n",
       "      <td>6.000000e+04</td>\n",
       "      <td>5.000000</td>\n",
       "    </tr>\n",
       "    <tr>\n",
       "      <th>75%</th>\n",
       "      <td>2017.000000</td>\n",
       "      <td>6.750000e+05</td>\n",
       "      <td>9.800000e+04</td>\n",
       "      <td>5.000000</td>\n",
       "    </tr>\n",
       "    <tr>\n",
       "      <th>max</th>\n",
       "      <td>2020.000000</td>\n",
       "      <td>1.000000e+07</td>\n",
       "      <td>2.360457e+06</td>\n",
       "      <td>14.000000</td>\n",
       "    </tr>\n",
       "  </tbody>\n",
       "</table>\n",
       "</div>"
      ],
      "text/plain": [
       "              year  selling_price     km_driven        seats\n",
       "count  8128.000000   8.128000e+03  8.128000e+03  7907.000000\n",
       "mean   2013.804011   6.382718e+05  6.981951e+04     5.416719\n",
       "std       4.044249   8.062534e+05  5.655055e+04     0.959588\n",
       "min    1983.000000   2.999900e+04  1.000000e+00     2.000000\n",
       "25%    2011.000000   2.549990e+05  3.500000e+04     5.000000\n",
       "50%    2015.000000   4.500000e+05  6.000000e+04     5.000000\n",
       "75%    2017.000000   6.750000e+05  9.800000e+04     5.000000\n",
       "max    2020.000000   1.000000e+07  2.360457e+06    14.000000"
      ]
     },
     "execution_count": 6,
     "metadata": {},
     "output_type": "execute_result"
    }
   ],
   "source": [
    "cars.describe()"
   ]
  },
  {
   "cell_type": "code",
   "execution_count": 7,
   "id": "d41b9a22",
   "metadata": {
    "execution": {
     "iopub.execute_input": "2023-01-17T10:07:05.713380Z",
     "iopub.status.busy": "2023-01-17T10:07:05.713091Z",
     "iopub.status.idle": "2023-01-17T10:07:05.723090Z",
     "shell.execute_reply": "2023-01-17T10:07:05.722221Z"
    },
    "papermill": {
     "duration": 0.024713,
     "end_time": "2023-01-17T10:07:05.724655",
     "exception": false,
     "start_time": "2023-01-17T10:07:05.699942",
     "status": "completed"
    },
    "tags": []
   },
   "outputs": [
    {
     "data": {
      "text/plain": [
       "name               0\n",
       "year               0\n",
       "selling_price      0\n",
       "km_driven          0\n",
       "fuel               0\n",
       "seller_type        0\n",
       "transmission       0\n",
       "owner              0\n",
       "mileage          221\n",
       "engine           221\n",
       "max_power        215\n",
       "torque           222\n",
       "seats            221\n",
       "dtype: int64"
      ]
     },
     "execution_count": 7,
     "metadata": {},
     "output_type": "execute_result"
    }
   ],
   "source": [
    "cars.isnull().sum()"
   ]
  },
  {
   "cell_type": "code",
   "execution_count": 8,
   "id": "00035fad",
   "metadata": {
    "execution": {
     "iopub.execute_input": "2023-01-17T10:07:05.751335Z",
     "iopub.status.busy": "2023-01-17T10:07:05.750776Z",
     "iopub.status.idle": "2023-01-17T10:07:05.762145Z",
     "shell.execute_reply": "2023-01-17T10:07:05.761216Z"
    },
    "papermill": {
     "duration": 0.02695,
     "end_time": "2023-01-17T10:07:05.764029",
     "exception": false,
     "start_time": "2023-01-17T10:07:05.737079",
     "status": "completed"
    },
    "tags": []
   },
   "outputs": [
    {
     "data": {
      "text/plain": [
       "(7906, 13)"
      ]
     },
     "execution_count": 8,
     "metadata": {},
     "output_type": "execute_result"
    }
   ],
   "source": [
    "cars = cars.dropna(how='any')\n",
    "cars.shape"
   ]
  },
  {
   "cell_type": "code",
   "execution_count": 9,
   "id": "5c3dc23c",
   "metadata": {
    "execution": {
     "iopub.execute_input": "2023-01-17T10:07:05.791770Z",
     "iopub.status.busy": "2023-01-17T10:07:05.791433Z",
     "iopub.status.idle": "2023-01-17T10:07:05.802399Z",
     "shell.execute_reply": "2023-01-17T10:07:05.800963Z"
    },
    "papermill": {
     "duration": 0.026806,
     "end_time": "2023-01-17T10:07:05.804210",
     "exception": false,
     "start_time": "2023-01-17T10:07:05.777404",
     "status": "completed"
    },
    "tags": []
   },
   "outputs": [
    {
     "data": {
      "text/plain": [
       "name             0\n",
       "year             0\n",
       "selling_price    0\n",
       "km_driven        0\n",
       "fuel             0\n",
       "seller_type      0\n",
       "transmission     0\n",
       "owner            0\n",
       "mileage          0\n",
       "engine           0\n",
       "max_power        0\n",
       "torque           0\n",
       "seats            0\n",
       "dtype: int64"
      ]
     },
     "execution_count": 9,
     "metadata": {},
     "output_type": "execute_result"
    }
   ],
   "source": [
    "cars.isnull().sum()"
   ]
  },
  {
   "cell_type": "code",
   "execution_count": 10,
   "id": "306841d6",
   "metadata": {
    "execution": {
     "iopub.execute_input": "2023-01-17T10:07:05.832763Z",
     "iopub.status.busy": "2023-01-17T10:07:05.832346Z",
     "iopub.status.idle": "2023-01-17T10:07:05.843858Z",
     "shell.execute_reply": "2023-01-17T10:07:05.842577Z"
    },
    "papermill": {
     "duration": 0.028298,
     "end_time": "2023-01-17T10:07:05.845825",
     "exception": false,
     "start_time": "2023-01-17T10:07:05.817527",
     "status": "completed"
    },
    "tags": []
   },
   "outputs": [
    {
     "data": {
      "text/plain": [
       "0"
      ]
     },
     "execution_count": 10,
     "metadata": {},
     "output_type": "execute_result"
    }
   ],
   "source": [
    "cars.isnull().sum().sum()"
   ]
  },
  {
   "cell_type": "markdown",
   "id": "5d15bc80",
   "metadata": {
    "papermill": {
     "duration": 0.012104,
     "end_time": "2023-01-17T10:07:05.870666",
     "exception": false,
     "start_time": "2023-01-17T10:07:05.858562",
     "status": "completed"
    },
    "tags": []
   },
   "source": [
    "## Data Preprocessing"
   ]
  },
  {
   "cell_type": "code",
   "execution_count": 11,
   "id": "61333fc6",
   "metadata": {
    "execution": {
     "iopub.execute_input": "2023-01-17T10:07:05.897687Z",
     "iopub.status.busy": "2023-01-17T10:07:05.897314Z",
     "iopub.status.idle": "2023-01-17T10:07:05.901002Z",
     "shell.execute_reply": "2023-01-17T10:07:05.900189Z"
    },
    "papermill": {
     "duration": 0.019485,
     "end_time": "2023-01-17T10:07:05.902666",
     "exception": false,
     "start_time": "2023-01-17T10:07:05.883181",
     "status": "completed"
    },
    "tags": []
   },
   "outputs": [],
   "source": [
    "import re"
   ]
  },
  {
   "cell_type": "markdown",
   "id": "dae4b96c",
   "metadata": {
    "papermill": {
     "duration": 0.011958,
     "end_time": "2023-01-17T10:07:05.927340",
     "exception": false,
     "start_time": "2023-01-17T10:07:05.915382",
     "status": "completed"
    },
    "tags": []
   },
   "source": [
    "Torque Feature - preprocessing"
   ]
  },
  {
   "cell_type": "code",
   "execution_count": 12,
   "id": "8042a110",
   "metadata": {
    "execution": {
     "iopub.execute_input": "2023-01-17T10:07:05.953451Z",
     "iopub.status.busy": "2023-01-17T10:07:05.953069Z",
     "iopub.status.idle": "2023-01-17T10:07:05.983428Z",
     "shell.execute_reply": "2023-01-17T10:07:05.981469Z"
    },
    "papermill": {
     "duration": 0.046419,
     "end_time": "2023-01-17T10:07:05.985925",
     "exception": false,
     "start_time": "2023-01-17T10:07:05.939506",
     "status": "completed"
    },
    "tags": []
   },
   "outputs": [
    {
     "name": "stdout",
     "output_type": "stream",
     "text": [
      "['190Nm@ 2000rpm', '250Nm@ 1500-2500rpm']\n",
      "[2000, 2500]\n"
     ]
    }
   ],
   "source": [
    "torque_list = cars['torque'].to_list()\n",
    "# torque_list[:2]\n",
    "torque_rpm = []\n",
    "def extractingRPM(x):\n",
    "    for item in x:\n",
    "        res = item.replace(\".\", \"\")\n",
    "        res = item.replace(\",\", \"\")\n",
    "        temp = [int(s) for s in re.findall(r'\\d+', res)]\n",
    "        torque_rpm.append(max(temp))\n",
    "        \n",
    "extractingRPM(torque_list)\n",
    "print(torque_list[:2])\n",
    "print(torque_rpm[:2])"
   ]
  },
  {
   "cell_type": "code",
   "execution_count": 13,
   "id": "9105db93",
   "metadata": {
    "execution": {
     "iopub.execute_input": "2023-01-17T10:07:06.015576Z",
     "iopub.status.busy": "2023-01-17T10:07:06.014583Z",
     "iopub.status.idle": "2023-01-17T10:07:06.031028Z",
     "shell.execute_reply": "2023-01-17T10:07:06.029612Z"
    },
    "papermill": {
     "duration": 0.033663,
     "end_time": "2023-01-17T10:07:06.033026",
     "exception": false,
     "start_time": "2023-01-17T10:07:05.999363",
     "status": "completed"
    },
    "tags": []
   },
   "outputs": [
    {
     "data": {
      "text/html": [
       "<div>\n",
       "<style scoped>\n",
       "    .dataframe tbody tr th:only-of-type {\n",
       "        vertical-align: middle;\n",
       "    }\n",
       "\n",
       "    .dataframe tbody tr th {\n",
       "        vertical-align: top;\n",
       "    }\n",
       "\n",
       "    .dataframe thead th {\n",
       "        text-align: right;\n",
       "    }\n",
       "</style>\n",
       "<table border=\"1\" class=\"dataframe\">\n",
       "  <thead>\n",
       "    <tr style=\"text-align: right;\">\n",
       "      <th></th>\n",
       "      <th>name</th>\n",
       "      <th>year</th>\n",
       "      <th>selling_price</th>\n",
       "      <th>km_driven</th>\n",
       "      <th>fuel</th>\n",
       "      <th>seller_type</th>\n",
       "      <th>transmission</th>\n",
       "      <th>owner</th>\n",
       "      <th>mileage</th>\n",
       "      <th>engine</th>\n",
       "      <th>max_power</th>\n",
       "      <th>torque</th>\n",
       "      <th>seats</th>\n",
       "      <th>torque_rpm</th>\n",
       "    </tr>\n",
       "  </thead>\n",
       "  <tbody>\n",
       "    <tr>\n",
       "      <th>0</th>\n",
       "      <td>Maruti Swift Dzire VDI</td>\n",
       "      <td>2014</td>\n",
       "      <td>450000</td>\n",
       "      <td>145500</td>\n",
       "      <td>Diesel</td>\n",
       "      <td>Individual</td>\n",
       "      <td>Manual</td>\n",
       "      <td>First Owner</td>\n",
       "      <td>23.4 kmpl</td>\n",
       "      <td>1248 CC</td>\n",
       "      <td>74 bhp</td>\n",
       "      <td>190Nm@ 2000rpm</td>\n",
       "      <td>5.0</td>\n",
       "      <td>2000</td>\n",
       "    </tr>\n",
       "    <tr>\n",
       "      <th>1</th>\n",
       "      <td>Skoda Rapid 1.5 TDI Ambition</td>\n",
       "      <td>2014</td>\n",
       "      <td>370000</td>\n",
       "      <td>120000</td>\n",
       "      <td>Diesel</td>\n",
       "      <td>Individual</td>\n",
       "      <td>Manual</td>\n",
       "      <td>Second Owner</td>\n",
       "      <td>21.14 kmpl</td>\n",
       "      <td>1498 CC</td>\n",
       "      <td>103.52 bhp</td>\n",
       "      <td>250Nm@ 1500-2500rpm</td>\n",
       "      <td>5.0</td>\n",
       "      <td>2500</td>\n",
       "    </tr>\n",
       "  </tbody>\n",
       "</table>\n",
       "</div>"
      ],
      "text/plain": [
       "                           name  year  selling_price  km_driven    fuel  \\\n",
       "0        Maruti Swift Dzire VDI  2014         450000     145500  Diesel   \n",
       "1  Skoda Rapid 1.5 TDI Ambition  2014         370000     120000  Diesel   \n",
       "\n",
       "  seller_type transmission         owner     mileage   engine   max_power  \\\n",
       "0  Individual       Manual   First Owner   23.4 kmpl  1248 CC      74 bhp   \n",
       "1  Individual       Manual  Second Owner  21.14 kmpl  1498 CC  103.52 bhp   \n",
       "\n",
       "                torque  seats  torque_rpm  \n",
       "0       190Nm@ 2000rpm    5.0        2000  \n",
       "1  250Nm@ 1500-2500rpm    5.0        2500  "
      ]
     },
     "execution_count": 13,
     "metadata": {},
     "output_type": "execute_result"
    }
   ],
   "source": [
    "cars['torque_rpm'] = torque_rpm\n",
    "cars.head(2)"
   ]
  },
  {
   "cell_type": "markdown",
   "id": "14806962",
   "metadata": {
    "papermill": {
     "duration": 0.013116,
     "end_time": "2023-01-17T10:07:06.059563",
     "exception": false,
     "start_time": "2023-01-17T10:07:06.046447",
     "status": "completed"
    },
    "tags": []
   },
   "source": [
    "mileage Feature - Preprocessing"
   ]
  },
  {
   "cell_type": "code",
   "execution_count": 14,
   "id": "c3ea2098",
   "metadata": {
    "execution": {
     "iopub.execute_input": "2023-01-17T10:07:06.088193Z",
     "iopub.status.busy": "2023-01-17T10:07:06.087864Z",
     "iopub.status.idle": "2023-01-17T10:07:06.105789Z",
     "shell.execute_reply": "2023-01-17T10:07:06.104659Z"
    },
    "papermill": {
     "duration": 0.034776,
     "end_time": "2023-01-17T10:07:06.108063",
     "exception": false,
     "start_time": "2023-01-17T10:07:06.073287",
     "status": "completed"
    },
    "tags": []
   },
   "outputs": [
    {
     "name": "stdout",
     "output_type": "stream",
     "text": [
      "['23.4 kmpl', '21.14 kmpl']\n",
      "[23.4, 21.14]\n"
     ]
    }
   ],
   "source": [
    "mil_list = cars['mileage'].to_list()\n",
    "mil_kmpl = []\n",
    "def extractingmil(x):\n",
    "    for item in x:\n",
    "        temp = []\n",
    "        try:\n",
    "            for s in item.split(\" \"):\n",
    "                temp.append(float(s))\n",
    "        except:\n",
    "            pass\n",
    "        mil_kmpl.append(max(temp))\n",
    "        \n",
    "extractingmil(mil_list)\n",
    "print(mil_list[:2])\n",
    "print(mil_kmpl[:2])"
   ]
  },
  {
   "cell_type": "code",
   "execution_count": 15,
   "id": "fbd8d69b",
   "metadata": {
    "execution": {
     "iopub.execute_input": "2023-01-17T10:07:06.136464Z",
     "iopub.status.busy": "2023-01-17T10:07:06.136157Z",
     "iopub.status.idle": "2023-01-17T10:07:06.152565Z",
     "shell.execute_reply": "2023-01-17T10:07:06.151429Z"
    },
    "papermill": {
     "duration": 0.03267,
     "end_time": "2023-01-17T10:07:06.154354",
     "exception": false,
     "start_time": "2023-01-17T10:07:06.121684",
     "status": "completed"
    },
    "tags": []
   },
   "outputs": [
    {
     "data": {
      "text/html": [
       "<div>\n",
       "<style scoped>\n",
       "    .dataframe tbody tr th:only-of-type {\n",
       "        vertical-align: middle;\n",
       "    }\n",
       "\n",
       "    .dataframe tbody tr th {\n",
       "        vertical-align: top;\n",
       "    }\n",
       "\n",
       "    .dataframe thead th {\n",
       "        text-align: right;\n",
       "    }\n",
       "</style>\n",
       "<table border=\"1\" class=\"dataframe\">\n",
       "  <thead>\n",
       "    <tr style=\"text-align: right;\">\n",
       "      <th></th>\n",
       "      <th>name</th>\n",
       "      <th>year</th>\n",
       "      <th>selling_price</th>\n",
       "      <th>km_driven</th>\n",
       "      <th>fuel</th>\n",
       "      <th>seller_type</th>\n",
       "      <th>transmission</th>\n",
       "      <th>owner</th>\n",
       "      <th>mileage</th>\n",
       "      <th>engine</th>\n",
       "      <th>max_power</th>\n",
       "      <th>torque</th>\n",
       "      <th>seats</th>\n",
       "      <th>torque_rpm</th>\n",
       "      <th>mil_kmpl</th>\n",
       "    </tr>\n",
       "  </thead>\n",
       "  <tbody>\n",
       "    <tr>\n",
       "      <th>0</th>\n",
       "      <td>Maruti Swift Dzire VDI</td>\n",
       "      <td>2014</td>\n",
       "      <td>450000</td>\n",
       "      <td>145500</td>\n",
       "      <td>Diesel</td>\n",
       "      <td>Individual</td>\n",
       "      <td>Manual</td>\n",
       "      <td>First Owner</td>\n",
       "      <td>23.4 kmpl</td>\n",
       "      <td>1248 CC</td>\n",
       "      <td>74 bhp</td>\n",
       "      <td>190Nm@ 2000rpm</td>\n",
       "      <td>5.0</td>\n",
       "      <td>2000</td>\n",
       "      <td>23.40</td>\n",
       "    </tr>\n",
       "    <tr>\n",
       "      <th>1</th>\n",
       "      <td>Skoda Rapid 1.5 TDI Ambition</td>\n",
       "      <td>2014</td>\n",
       "      <td>370000</td>\n",
       "      <td>120000</td>\n",
       "      <td>Diesel</td>\n",
       "      <td>Individual</td>\n",
       "      <td>Manual</td>\n",
       "      <td>Second Owner</td>\n",
       "      <td>21.14 kmpl</td>\n",
       "      <td>1498 CC</td>\n",
       "      <td>103.52 bhp</td>\n",
       "      <td>250Nm@ 1500-2500rpm</td>\n",
       "      <td>5.0</td>\n",
       "      <td>2500</td>\n",
       "      <td>21.14</td>\n",
       "    </tr>\n",
       "  </tbody>\n",
       "</table>\n",
       "</div>"
      ],
      "text/plain": [
       "                           name  year  selling_price  km_driven    fuel  \\\n",
       "0        Maruti Swift Dzire VDI  2014         450000     145500  Diesel   \n",
       "1  Skoda Rapid 1.5 TDI Ambition  2014         370000     120000  Diesel   \n",
       "\n",
       "  seller_type transmission         owner     mileage   engine   max_power  \\\n",
       "0  Individual       Manual   First Owner   23.4 kmpl  1248 CC      74 bhp   \n",
       "1  Individual       Manual  Second Owner  21.14 kmpl  1498 CC  103.52 bhp   \n",
       "\n",
       "                torque  seats  torque_rpm  mil_kmpl  \n",
       "0       190Nm@ 2000rpm    5.0        2000     23.40  \n",
       "1  250Nm@ 1500-2500rpm    5.0        2500     21.14  "
      ]
     },
     "execution_count": 15,
     "metadata": {},
     "output_type": "execute_result"
    }
   ],
   "source": [
    "cars['mil_kmpl'] = mil_kmpl\n",
    "cars[:2]"
   ]
  },
  {
   "cell_type": "markdown",
   "id": "13b2e549",
   "metadata": {
    "papermill": {
     "duration": 0.013562,
     "end_time": "2023-01-17T10:07:06.181595",
     "exception": false,
     "start_time": "2023-01-17T10:07:06.168033",
     "status": "completed"
    },
    "tags": []
   },
   "source": [
    "engine Feature - Preprocessing"
   ]
  },
  {
   "cell_type": "code",
   "execution_count": 16,
   "id": "58465ba6",
   "metadata": {
    "execution": {
     "iopub.execute_input": "2023-01-17T10:07:06.210540Z",
     "iopub.status.busy": "2023-01-17T10:07:06.210042Z",
     "iopub.status.idle": "2023-01-17T10:07:06.229285Z",
     "shell.execute_reply": "2023-01-17T10:07:06.227854Z"
    },
    "papermill": {
     "duration": 0.036617,
     "end_time": "2023-01-17T10:07:06.231815",
     "exception": false,
     "start_time": "2023-01-17T10:07:06.195198",
     "status": "completed"
    },
    "tags": []
   },
   "outputs": [
    {
     "name": "stdout",
     "output_type": "stream",
     "text": [
      "['1248 CC', '1498 CC']\n",
      "[1248.0, 1498.0]\n"
     ]
    }
   ],
   "source": [
    "engine_list = cars['engine'].to_list()\n",
    "engine_cc = []\n",
    "def extractingEngine(x):\n",
    "    for item in x:\n",
    "        temp = []\n",
    "        try:\n",
    "            for s in item.split(\" \"):\n",
    "                temp.append(float(s))\n",
    "        except:\n",
    "            pass\n",
    "        engine_cc.append(max(temp))\n",
    "        \n",
    "extractingEngine(engine_list)\n",
    "print(engine_list[:2])\n",
    "print(engine_cc[:2])"
   ]
  },
  {
   "cell_type": "code",
   "execution_count": 17,
   "id": "b41c5498",
   "metadata": {
    "execution": {
     "iopub.execute_input": "2023-01-17T10:07:06.259223Z",
     "iopub.status.busy": "2023-01-17T10:07:06.258715Z",
     "iopub.status.idle": "2023-01-17T10:07:06.273394Z",
     "shell.execute_reply": "2023-01-17T10:07:06.272488Z"
    },
    "papermill": {
     "duration": 0.030448,
     "end_time": "2023-01-17T10:07:06.275161",
     "exception": false,
     "start_time": "2023-01-17T10:07:06.244713",
     "status": "completed"
    },
    "tags": []
   },
   "outputs": [
    {
     "data": {
      "text/html": [
       "<div>\n",
       "<style scoped>\n",
       "    .dataframe tbody tr th:only-of-type {\n",
       "        vertical-align: middle;\n",
       "    }\n",
       "\n",
       "    .dataframe tbody tr th {\n",
       "        vertical-align: top;\n",
       "    }\n",
       "\n",
       "    .dataframe thead th {\n",
       "        text-align: right;\n",
       "    }\n",
       "</style>\n",
       "<table border=\"1\" class=\"dataframe\">\n",
       "  <thead>\n",
       "    <tr style=\"text-align: right;\">\n",
       "      <th></th>\n",
       "      <th>name</th>\n",
       "      <th>year</th>\n",
       "      <th>selling_price</th>\n",
       "      <th>km_driven</th>\n",
       "      <th>fuel</th>\n",
       "      <th>seller_type</th>\n",
       "      <th>transmission</th>\n",
       "      <th>owner</th>\n",
       "      <th>mileage</th>\n",
       "      <th>engine</th>\n",
       "      <th>max_power</th>\n",
       "      <th>torque</th>\n",
       "      <th>seats</th>\n",
       "      <th>torque_rpm</th>\n",
       "      <th>mil_kmpl</th>\n",
       "      <th>engine_cc</th>\n",
       "    </tr>\n",
       "  </thead>\n",
       "  <tbody>\n",
       "    <tr>\n",
       "      <th>0</th>\n",
       "      <td>Maruti Swift Dzire VDI</td>\n",
       "      <td>2014</td>\n",
       "      <td>450000</td>\n",
       "      <td>145500</td>\n",
       "      <td>Diesel</td>\n",
       "      <td>Individual</td>\n",
       "      <td>Manual</td>\n",
       "      <td>First Owner</td>\n",
       "      <td>23.4 kmpl</td>\n",
       "      <td>1248 CC</td>\n",
       "      <td>74 bhp</td>\n",
       "      <td>190Nm@ 2000rpm</td>\n",
       "      <td>5.0</td>\n",
       "      <td>2000</td>\n",
       "      <td>23.40</td>\n",
       "      <td>1248.0</td>\n",
       "    </tr>\n",
       "    <tr>\n",
       "      <th>1</th>\n",
       "      <td>Skoda Rapid 1.5 TDI Ambition</td>\n",
       "      <td>2014</td>\n",
       "      <td>370000</td>\n",
       "      <td>120000</td>\n",
       "      <td>Diesel</td>\n",
       "      <td>Individual</td>\n",
       "      <td>Manual</td>\n",
       "      <td>Second Owner</td>\n",
       "      <td>21.14 kmpl</td>\n",
       "      <td>1498 CC</td>\n",
       "      <td>103.52 bhp</td>\n",
       "      <td>250Nm@ 1500-2500rpm</td>\n",
       "      <td>5.0</td>\n",
       "      <td>2500</td>\n",
       "      <td>21.14</td>\n",
       "      <td>1498.0</td>\n",
       "    </tr>\n",
       "  </tbody>\n",
       "</table>\n",
       "</div>"
      ],
      "text/plain": [
       "                           name  year  selling_price  km_driven    fuel  \\\n",
       "0        Maruti Swift Dzire VDI  2014         450000     145500  Diesel   \n",
       "1  Skoda Rapid 1.5 TDI Ambition  2014         370000     120000  Diesel   \n",
       "\n",
       "  seller_type transmission         owner     mileage   engine   max_power  \\\n",
       "0  Individual       Manual   First Owner   23.4 kmpl  1248 CC      74 bhp   \n",
       "1  Individual       Manual  Second Owner  21.14 kmpl  1498 CC  103.52 bhp   \n",
       "\n",
       "                torque  seats  torque_rpm  mil_kmpl  engine_cc  \n",
       "0       190Nm@ 2000rpm    5.0        2000     23.40     1248.0  \n",
       "1  250Nm@ 1500-2500rpm    5.0        2500     21.14     1498.0  "
      ]
     },
     "execution_count": 17,
     "metadata": {},
     "output_type": "execute_result"
    }
   ],
   "source": [
    "cars['engine_cc'] = engine_cc\n",
    "cars[:2]"
   ]
  },
  {
   "cell_type": "code",
   "execution_count": 18,
   "id": "1e0f36a9",
   "metadata": {
    "execution": {
     "iopub.execute_input": "2023-01-17T10:07:06.304899Z",
     "iopub.status.busy": "2023-01-17T10:07:06.304379Z",
     "iopub.status.idle": "2023-01-17T10:07:06.320599Z",
     "shell.execute_reply": "2023-01-17T10:07:06.320028Z"
    },
    "papermill": {
     "duration": 0.03438,
     "end_time": "2023-01-17T10:07:06.323569",
     "exception": false,
     "start_time": "2023-01-17T10:07:06.289189",
     "status": "completed"
    },
    "tags": []
   },
   "outputs": [
    {
     "name": "stdout",
     "output_type": "stream",
     "text": [
      "['74 bhp', '103.52 bhp']\n",
      "[74.0, 103.52]\n"
     ]
    }
   ],
   "source": [
    "power_list = cars['max_power'].to_list()\n",
    "\n",
    "max_power = []\n",
    "def extractingPower(x):\n",
    "    for item in x:\n",
    "        temp = []\n",
    "        try:\n",
    "            for s in item.split(\" \"):\n",
    "                temp.append(float(s))\n",
    "        except:\n",
    "            pass\n",
    "        max_power.append(max(temp))\n",
    "        \n",
    "extractingPower(power_list)\n",
    "print(power_list[:2])\n",
    "print(max_power[:2])"
   ]
  },
  {
   "cell_type": "code",
   "execution_count": 19,
   "id": "4dd9e0c1",
   "metadata": {
    "execution": {
     "iopub.execute_input": "2023-01-17T10:07:06.353671Z",
     "iopub.status.busy": "2023-01-17T10:07:06.353046Z",
     "iopub.status.idle": "2023-01-17T10:07:06.371089Z",
     "shell.execute_reply": "2023-01-17T10:07:06.369740Z"
    },
    "papermill": {
     "duration": 0.035073,
     "end_time": "2023-01-17T10:07:06.372836",
     "exception": false,
     "start_time": "2023-01-17T10:07:06.337763",
     "status": "completed"
    },
    "tags": []
   },
   "outputs": [
    {
     "data": {
      "text/html": [
       "<div>\n",
       "<style scoped>\n",
       "    .dataframe tbody tr th:only-of-type {\n",
       "        vertical-align: middle;\n",
       "    }\n",
       "\n",
       "    .dataframe tbody tr th {\n",
       "        vertical-align: top;\n",
       "    }\n",
       "\n",
       "    .dataframe thead th {\n",
       "        text-align: right;\n",
       "    }\n",
       "</style>\n",
       "<table border=\"1\" class=\"dataframe\">\n",
       "  <thead>\n",
       "    <tr style=\"text-align: right;\">\n",
       "      <th></th>\n",
       "      <th>name</th>\n",
       "      <th>year</th>\n",
       "      <th>selling_price</th>\n",
       "      <th>km_driven</th>\n",
       "      <th>fuel</th>\n",
       "      <th>seller_type</th>\n",
       "      <th>transmission</th>\n",
       "      <th>owner</th>\n",
       "      <th>mileage</th>\n",
       "      <th>engine</th>\n",
       "      <th>max_power</th>\n",
       "      <th>torque</th>\n",
       "      <th>seats</th>\n",
       "      <th>torque_rpm</th>\n",
       "      <th>mil_kmpl</th>\n",
       "      <th>engine_cc</th>\n",
       "      <th>max_power_new</th>\n",
       "    </tr>\n",
       "  </thead>\n",
       "  <tbody>\n",
       "    <tr>\n",
       "      <th>0</th>\n",
       "      <td>Maruti Swift Dzire VDI</td>\n",
       "      <td>2014</td>\n",
       "      <td>450000</td>\n",
       "      <td>145500</td>\n",
       "      <td>Diesel</td>\n",
       "      <td>Individual</td>\n",
       "      <td>Manual</td>\n",
       "      <td>First Owner</td>\n",
       "      <td>23.4 kmpl</td>\n",
       "      <td>1248 CC</td>\n",
       "      <td>74 bhp</td>\n",
       "      <td>190Nm@ 2000rpm</td>\n",
       "      <td>5.0</td>\n",
       "      <td>2000</td>\n",
       "      <td>23.40</td>\n",
       "      <td>1248.0</td>\n",
       "      <td>74.00</td>\n",
       "    </tr>\n",
       "    <tr>\n",
       "      <th>1</th>\n",
       "      <td>Skoda Rapid 1.5 TDI Ambition</td>\n",
       "      <td>2014</td>\n",
       "      <td>370000</td>\n",
       "      <td>120000</td>\n",
       "      <td>Diesel</td>\n",
       "      <td>Individual</td>\n",
       "      <td>Manual</td>\n",
       "      <td>Second Owner</td>\n",
       "      <td>21.14 kmpl</td>\n",
       "      <td>1498 CC</td>\n",
       "      <td>103.52 bhp</td>\n",
       "      <td>250Nm@ 1500-2500rpm</td>\n",
       "      <td>5.0</td>\n",
       "      <td>2500</td>\n",
       "      <td>21.14</td>\n",
       "      <td>1498.0</td>\n",
       "      <td>103.52</td>\n",
       "    </tr>\n",
       "  </tbody>\n",
       "</table>\n",
       "</div>"
      ],
      "text/plain": [
       "                           name  year  selling_price  km_driven    fuel  \\\n",
       "0        Maruti Swift Dzire VDI  2014         450000     145500  Diesel   \n",
       "1  Skoda Rapid 1.5 TDI Ambition  2014         370000     120000  Diesel   \n",
       "\n",
       "  seller_type transmission         owner     mileage   engine   max_power  \\\n",
       "0  Individual       Manual   First Owner   23.4 kmpl  1248 CC      74 bhp   \n",
       "1  Individual       Manual  Second Owner  21.14 kmpl  1498 CC  103.52 bhp   \n",
       "\n",
       "                torque  seats  torque_rpm  mil_kmpl  engine_cc  max_power_new  \n",
       "0       190Nm@ 2000rpm    5.0        2000     23.40     1248.0          74.00  \n",
       "1  250Nm@ 1500-2500rpm    5.0        2500     21.14     1498.0         103.52  "
      ]
     },
     "execution_count": 19,
     "metadata": {},
     "output_type": "execute_result"
    }
   ],
   "source": [
    "cars['max_power_new'] = max_power\n",
    "cars[:2]"
   ]
  },
  {
   "cell_type": "code",
   "execution_count": 20,
   "id": "0145ecaf",
   "metadata": {
    "execution": {
     "iopub.execute_input": "2023-01-17T10:07:06.401146Z",
     "iopub.status.busy": "2023-01-17T10:07:06.400837Z",
     "iopub.status.idle": "2023-01-17T10:07:06.408158Z",
     "shell.execute_reply": "2023-01-17T10:07:06.407053Z"
    },
    "papermill": {
     "duration": 0.023914,
     "end_time": "2023-01-17T10:07:06.410299",
     "exception": false,
     "start_time": "2023-01-17T10:07:06.386385",
     "status": "completed"
    },
    "tags": []
   },
   "outputs": [],
   "source": [
    "cars_new = cars.drop(['mileage', 'engine', 'max_power', 'torque'],axis=1)"
   ]
  },
  {
   "cell_type": "code",
   "execution_count": 21,
   "id": "181d2208",
   "metadata": {
    "execution": {
     "iopub.execute_input": "2023-01-17T10:07:06.440064Z",
     "iopub.status.busy": "2023-01-17T10:07:06.439526Z",
     "iopub.status.idle": "2023-01-17T10:07:06.447186Z",
     "shell.execute_reply": "2023-01-17T10:07:06.446659Z"
    },
    "papermill": {
     "duration": 0.024493,
     "end_time": "2023-01-17T10:07:06.448934",
     "exception": false,
     "start_time": "2023-01-17T10:07:06.424441",
     "status": "completed"
    },
    "tags": []
   },
   "outputs": [
    {
     "data": {
      "text/plain": [
       "name             0\n",
       "year             0\n",
       "selling_price    0\n",
       "km_driven        0\n",
       "fuel             0\n",
       "seller_type      0\n",
       "transmission     0\n",
       "owner            0\n",
       "seats            0\n",
       "torque_rpm       0\n",
       "mil_kmpl         0\n",
       "engine_cc        0\n",
       "max_power_new    0\n",
       "dtype: int64"
      ]
     },
     "execution_count": 21,
     "metadata": {},
     "output_type": "execute_result"
    }
   ],
   "source": [
    "cars_new.isnull().sum()"
   ]
  },
  {
   "cell_type": "code",
   "execution_count": 22,
   "id": "c8089f3b",
   "metadata": {
    "execution": {
     "iopub.execute_input": "2023-01-17T10:07:06.477900Z",
     "iopub.status.busy": "2023-01-17T10:07:06.477449Z",
     "iopub.status.idle": "2023-01-17T10:07:06.504935Z",
     "shell.execute_reply": "2023-01-17T10:07:06.503694Z"
    },
    "papermill": {
     "duration": 0.044445,
     "end_time": "2023-01-17T10:07:06.507189",
     "exception": false,
     "start_time": "2023-01-17T10:07:06.462744",
     "status": "completed"
    },
    "tags": []
   },
   "outputs": [
    {
     "data": {
      "text/html": [
       "<div>\n",
       "<style scoped>\n",
       "    .dataframe tbody tr th:only-of-type {\n",
       "        vertical-align: middle;\n",
       "    }\n",
       "\n",
       "    .dataframe tbody tr th {\n",
       "        vertical-align: top;\n",
       "    }\n",
       "\n",
       "    .dataframe thead th {\n",
       "        text-align: right;\n",
       "    }\n",
       "</style>\n",
       "<table border=\"1\" class=\"dataframe\">\n",
       "  <thead>\n",
       "    <tr style=\"text-align: right;\">\n",
       "      <th></th>\n",
       "      <th>year</th>\n",
       "      <th>selling_price</th>\n",
       "      <th>km_driven</th>\n",
       "      <th>seats</th>\n",
       "      <th>torque_rpm</th>\n",
       "      <th>mil_kmpl</th>\n",
       "      <th>engine_cc</th>\n",
       "      <th>max_power_new</th>\n",
       "    </tr>\n",
       "  </thead>\n",
       "  <tbody>\n",
       "    <tr>\n",
       "      <th>count</th>\n",
       "      <td>7906.000000</td>\n",
       "      <td>7.906000e+03</td>\n",
       "      <td>7.906000e+03</td>\n",
       "      <td>7906.000000</td>\n",
       "      <td>7906.000000</td>\n",
       "      <td>7906.000000</td>\n",
       "      <td>7906.000000</td>\n",
       "      <td>7906.000000</td>\n",
       "    </tr>\n",
       "    <tr>\n",
       "      <th>mean</th>\n",
       "      <td>2013.983936</td>\n",
       "      <td>6.498137e+05</td>\n",
       "      <td>6.918866e+04</td>\n",
       "      <td>5.416393</td>\n",
       "      <td>3069.864154</td>\n",
       "      <td>19.419861</td>\n",
       "      <td>1458.708829</td>\n",
       "      <td>91.587374</td>\n",
       "    </tr>\n",
       "    <tr>\n",
       "      <th>std</th>\n",
       "      <td>3.863695</td>\n",
       "      <td>8.135827e+05</td>\n",
       "      <td>5.679230e+04</td>\n",
       "      <td>0.959208</td>\n",
       "      <td>943.662100</td>\n",
       "      <td>4.036263</td>\n",
       "      <td>503.893057</td>\n",
       "      <td>35.747216</td>\n",
       "    </tr>\n",
       "    <tr>\n",
       "      <th>min</th>\n",
       "      <td>1994.000000</td>\n",
       "      <td>2.999900e+04</td>\n",
       "      <td>1.000000e+00</td>\n",
       "      <td>2.000000</td>\n",
       "      <td>400.000000</td>\n",
       "      <td>0.000000</td>\n",
       "      <td>624.000000</td>\n",
       "      <td>32.800000</td>\n",
       "    </tr>\n",
       "    <tr>\n",
       "      <th>25%</th>\n",
       "      <td>2012.000000</td>\n",
       "      <td>2.700000e+05</td>\n",
       "      <td>3.500000e+04</td>\n",
       "      <td>5.000000</td>\n",
       "      <td>2400.000000</td>\n",
       "      <td>16.780000</td>\n",
       "      <td>1197.000000</td>\n",
       "      <td>68.050000</td>\n",
       "    </tr>\n",
       "    <tr>\n",
       "      <th>50%</th>\n",
       "      <td>2015.000000</td>\n",
       "      <td>4.500000e+05</td>\n",
       "      <td>6.000000e+04</td>\n",
       "      <td>5.000000</td>\n",
       "      <td>3000.000000</td>\n",
       "      <td>19.300000</td>\n",
       "      <td>1248.000000</td>\n",
       "      <td>82.000000</td>\n",
       "    </tr>\n",
       "    <tr>\n",
       "      <th>75%</th>\n",
       "      <td>2017.000000</td>\n",
       "      <td>6.900000e+05</td>\n",
       "      <td>9.542500e+04</td>\n",
       "      <td>5.000000</td>\n",
       "      <td>4000.000000</td>\n",
       "      <td>22.320000</td>\n",
       "      <td>1582.000000</td>\n",
       "      <td>102.000000</td>\n",
       "    </tr>\n",
       "    <tr>\n",
       "      <th>max</th>\n",
       "      <td>2020.000000</td>\n",
       "      <td>1.000000e+07</td>\n",
       "      <td>2.360457e+06</td>\n",
       "      <td>14.000000</td>\n",
       "      <td>21800.000000</td>\n",
       "      <td>42.000000</td>\n",
       "      <td>3604.000000</td>\n",
       "      <td>400.000000</td>\n",
       "    </tr>\n",
       "  </tbody>\n",
       "</table>\n",
       "</div>"
      ],
      "text/plain": [
       "              year  selling_price     km_driven        seats    torque_rpm  \\\n",
       "count  7906.000000   7.906000e+03  7.906000e+03  7906.000000   7906.000000   \n",
       "mean   2013.983936   6.498137e+05  6.918866e+04     5.416393   3069.864154   \n",
       "std       3.863695   8.135827e+05  5.679230e+04     0.959208    943.662100   \n",
       "min    1994.000000   2.999900e+04  1.000000e+00     2.000000    400.000000   \n",
       "25%    2012.000000   2.700000e+05  3.500000e+04     5.000000   2400.000000   \n",
       "50%    2015.000000   4.500000e+05  6.000000e+04     5.000000   3000.000000   \n",
       "75%    2017.000000   6.900000e+05  9.542500e+04     5.000000   4000.000000   \n",
       "max    2020.000000   1.000000e+07  2.360457e+06    14.000000  21800.000000   \n",
       "\n",
       "          mil_kmpl    engine_cc  max_power_new  \n",
       "count  7906.000000  7906.000000    7906.000000  \n",
       "mean     19.419861  1458.708829      91.587374  \n",
       "std       4.036263   503.893057      35.747216  \n",
       "min       0.000000   624.000000      32.800000  \n",
       "25%      16.780000  1197.000000      68.050000  \n",
       "50%      19.300000  1248.000000      82.000000  \n",
       "75%      22.320000  1582.000000     102.000000  \n",
       "max      42.000000  3604.000000     400.000000  "
      ]
     },
     "execution_count": 22,
     "metadata": {},
     "output_type": "execute_result"
    }
   ],
   "source": [
    "cars_new.describe()"
   ]
  },
  {
   "cell_type": "markdown",
   "id": "dd510127",
   "metadata": {
    "papermill": {
     "duration": 0.013893,
     "end_time": "2023-01-17T10:07:06.535844",
     "exception": false,
     "start_time": "2023-01-17T10:07:06.521951",
     "status": "completed"
    },
    "tags": []
   },
   "source": [
    "The ranges for all the columns are all over teh place so we might have to normalize some columns or standardize the dataset"
   ]
  },
  {
   "cell_type": "code",
   "execution_count": 23,
   "id": "c8328d9d",
   "metadata": {
    "execution": {
     "iopub.execute_input": "2023-01-17T10:07:06.566192Z",
     "iopub.status.busy": "2023-01-17T10:07:06.565895Z",
     "iopub.status.idle": "2023-01-17T10:07:07.094293Z",
     "shell.execute_reply": "2023-01-17T10:07:07.093471Z"
    },
    "papermill": {
     "duration": 0.54573,
     "end_time": "2023-01-17T10:07:07.096081",
     "exception": false,
     "start_time": "2023-01-17T10:07:06.550351",
     "status": "completed"
    },
    "tags": []
   },
   "outputs": [
    {
     "data": {
      "text/plain": [
       "<AxesSubplot:>"
      ]
     },
     "execution_count": 23,
     "metadata": {},
     "output_type": "execute_result"
    },
    {
     "data": {
      "image/png": "[encoded data removed]",
      "text/plain": [
       "<Figure size 576x576 with 2 Axes>"
      ]
     },
     "metadata": {
      "needs_background": "light"
     },
     "output_type": "display_data"
    }
   ],
   "source": [
    "plt.figure(figsize=(8,8))\n",
    "sns.heatmap(cars_new.corr(),annot=True,cmap='viridis', linewidths=3)"
   ]
  },
  {
   "cell_type": "markdown",
   "id": "763151be",
   "metadata": {
    "papermill": {
     "duration": 0.014645,
     "end_time": "2023-01-17T10:07:07.125717",
     "exception": false,
     "start_time": "2023-01-17T10:07:07.111072",
     "status": "completed"
    },
    "tags": []
   },
   "source": [
    "- We can see there is high correlation of selling price(which we will be predicting) with max_power output of the car\n",
    "- the values of correlation are pretty averaged out meaning we wont be excluding any column as each column is able to provide us with new information that is not provided by any other column."
   ]
  },
  {
   "cell_type": "markdown",
   "id": "52d11daa",
   "metadata": {
    "papermill": {
     "duration": 0.015386,
     "end_time": "2023-01-17T10:07:07.156319",
     "exception": false,
     "start_time": "2023-01-17T10:07:07.140933",
     "status": "completed"
    },
    "tags": []
   },
   "source": [
    "**Our journey for finding categorical data**"
   ]
  },
  {
   "cell_type": "code",
   "execution_count": 24,
   "id": "617177d1",
   "metadata": {
    "execution": {
     "iopub.execute_input": "2023-01-17T10:07:07.187936Z",
     "iopub.status.busy": "2023-01-17T10:07:07.187603Z",
     "iopub.status.idle": "2023-01-17T10:07:07.195737Z",
     "shell.execute_reply": "2023-01-17T10:07:07.194681Z"
    },
    "papermill": {
     "duration": 0.026495,
     "end_time": "2023-01-17T10:07:07.197989",
     "exception": false,
     "start_time": "2023-01-17T10:07:07.171494",
     "status": "completed"
    },
    "tags": []
   },
   "outputs": [
    {
     "data": {
      "text/plain": [
       "Diesel    4299\n",
       "Petrol    3520\n",
       "CNG         52\n",
       "LPG         35\n",
       "Name: fuel, dtype: int64"
      ]
     },
     "execution_count": 24,
     "metadata": {},
     "output_type": "execute_result"
    }
   ],
   "source": [
    "cars_new['fuel'].value_counts()"
   ]
  },
  {
   "cell_type": "code",
   "execution_count": 25,
   "id": "8ef91028",
   "metadata": {
    "execution": {
     "iopub.execute_input": "2023-01-17T10:07:07.230698Z",
     "iopub.status.busy": "2023-01-17T10:07:07.230297Z",
     "iopub.status.idle": "2023-01-17T10:07:07.238380Z",
     "shell.execute_reply": "2023-01-17T10:07:07.237507Z"
    },
    "papermill": {
     "duration": 0.027139,
     "end_time": "2023-01-17T10:07:07.240524",
     "exception": false,
     "start_time": "2023-01-17T10:07:07.213385",
     "status": "completed"
    },
    "tags": []
   },
   "outputs": [
    {
     "data": {
      "text/plain": [
       "Individual          6563\n",
       "Dealer              1107\n",
       "Trustmark Dealer     236\n",
       "Name: seller_type, dtype: int64"
      ]
     },
     "execution_count": 25,
     "metadata": {},
     "output_type": "execute_result"
    }
   ],
   "source": [
    "cars_new['seller_type'].value_counts()"
   ]
  },
  {
   "cell_type": "code",
   "execution_count": 26,
   "id": "c1ce058a",
   "metadata": {
    "execution": {
     "iopub.execute_input": "2023-01-17T10:07:07.271562Z",
     "iopub.status.busy": "2023-01-17T10:07:07.271235Z",
     "iopub.status.idle": "2023-01-17T10:07:07.279301Z",
     "shell.execute_reply": "2023-01-17T10:07:07.278256Z"
    },
    "papermill": {
     "duration": 0.025299,
     "end_time": "2023-01-17T10:07:07.281010",
     "exception": false,
     "start_time": "2023-01-17T10:07:07.255711",
     "status": "completed"
    },
    "tags": []
   },
   "outputs": [
    {
     "data": {
      "text/plain": [
       "Manual       6865\n",
       "Automatic    1041\n",
       "Name: transmission, dtype: int64"
      ]
     },
     "execution_count": 26,
     "metadata": {},
     "output_type": "execute_result"
    }
   ],
   "source": [
    "cars_new['transmission'].value_counts()"
   ]
  },
  {
   "cell_type": "code",
   "execution_count": 27,
   "id": "fa0f9cc8",
   "metadata": {
    "execution": {
     "iopub.execute_input": "2023-01-17T10:07:07.314709Z",
     "iopub.status.busy": "2023-01-17T10:07:07.313202Z",
     "iopub.status.idle": "2023-01-17T10:07:07.321950Z",
     "shell.execute_reply": "2023-01-17T10:07:07.320681Z"
    },
    "papermill": {
     "duration": 0.027827,
     "end_time": "2023-01-17T10:07:07.323747",
     "exception": false,
     "start_time": "2023-01-17T10:07:07.295920",
     "status": "completed"
    },
    "tags": []
   },
   "outputs": [
    {
     "data": {
      "text/plain": [
       "First Owner             5215\n",
       "Second Owner            2016\n",
       "Third Owner              510\n",
       "Fourth & Above Owner     160\n",
       "Test Drive Car             5\n",
       "Name: owner, dtype: int64"
      ]
     },
     "execution_count": 27,
     "metadata": {},
     "output_type": "execute_result"
    }
   ],
   "source": [
    "cars_new['owner'].value_counts()"
   ]
  },
  {
   "cell_type": "markdown",
   "id": "6fce5336",
   "metadata": {
    "papermill": {
     "duration": 0.016317,
     "end_time": "2023-01-17T10:07:07.356694",
     "exception": false,
     "start_time": "2023-01-17T10:07:07.340377",
     "status": "completed"
    },
    "tags": []
   },
   "source": [
    "**Converting categorical data to integer format**"
   ]
  },
  {
   "cell_type": "markdown",
   "id": "3a1497d4",
   "metadata": {
    "papermill": {
     "duration": 0.01745,
     "end_time": "2023-01-17T10:07:07.392591",
     "exception": false,
     "start_time": "2023-01-17T10:07:07.375141",
     "status": "completed"
    },
    "tags": []
   },
   "source": [
    "**Transmission Feature**"
   ]
  },
  {
   "cell_type": "code",
   "execution_count": 28,
   "id": "d4c19485",
   "metadata": {
    "execution": {
     "iopub.execute_input": "2023-01-17T10:07:07.427824Z",
     "iopub.status.busy": "2023-01-17T10:07:07.426611Z",
     "iopub.status.idle": "2023-01-17T10:07:07.435261Z",
     "shell.execute_reply": "2023-01-17T10:07:07.434493Z"
    },
    "papermill": {
     "duration": 0.028289,
     "end_time": "2023-01-17T10:07:07.437290",
     "exception": false,
     "start_time": "2023-01-17T10:07:07.409001",
     "status": "completed"
    },
    "tags": []
   },
   "outputs": [],
   "source": [
    "def ref1(x):\n",
    "    if x == 'Manual':\n",
    "        return 1\n",
    "    else: \n",
    "        return 0\n",
    "cars_new['transmission'] = cars_new['transmission'].map(ref1)"
   ]
  },
  {
   "cell_type": "markdown",
   "id": "105e74f1",
   "metadata": {
    "papermill": {
     "duration": 0.014996,
     "end_time": "2023-01-17T10:07:07.469311",
     "exception": false,
     "start_time": "2023-01-17T10:07:07.454315",
     "status": "completed"
    },
    "tags": []
   },
   "source": [
    "**Seller_type** Feature"
   ]
  },
  {
   "cell_type": "code",
   "execution_count": 29,
   "id": "20adf185",
   "metadata": {
    "execution": {
     "iopub.execute_input": "2023-01-17T10:07:07.503203Z",
     "iopub.status.busy": "2023-01-17T10:07:07.502022Z",
     "iopub.status.idle": "2023-01-17T10:07:07.510783Z",
     "shell.execute_reply": "2023-01-17T10:07:07.509781Z"
    },
    "papermill": {
     "duration": 0.028275,
     "end_time": "2023-01-17T10:07:07.513092",
     "exception": false,
     "start_time": "2023-01-17T10:07:07.484817",
     "status": "completed"
    },
    "tags": []
   },
   "outputs": [],
   "source": [
    "def ref2(x):\n",
    "    if x == 'Individual':\n",
    "        return 1\n",
    "    elif x=='Dealer':\n",
    "        return 0\n",
    "    else:\n",
    "        return -1\n",
    "    \n",
    "cars_new['seller_type'] = cars_new['seller_type'].map(ref2)\n"
   ]
  },
  {
   "cell_type": "markdown",
   "id": "053c7026",
   "metadata": {
    "papermill": {
     "duration": 0.015259,
     "end_time": "2023-01-17T10:07:07.543592",
     "exception": false,
     "start_time": "2023-01-17T10:07:07.528333",
     "status": "completed"
    },
    "tags": []
   },
   "source": [
    "**fuel Feature**"
   ]
  },
  {
   "cell_type": "code",
   "execution_count": 30,
   "id": "8792024e",
   "metadata": {
    "execution": {
     "iopub.execute_input": "2023-01-17T10:07:07.574921Z",
     "iopub.status.busy": "2023-01-17T10:07:07.574589Z",
     "iopub.status.idle": "2023-01-17T10:07:07.581473Z",
     "shell.execute_reply": "2023-01-17T10:07:07.580881Z"
    },
    "papermill": {
     "duration": 0.024572,
     "end_time": "2023-01-17T10:07:07.583293",
     "exception": false,
     "start_time": "2023-01-17T10:07:07.558721",
     "status": "completed"
    },
    "tags": []
   },
   "outputs": [],
   "source": [
    "def ref3(x):\n",
    "    if x == 'Petrol':\n",
    "        return 1\n",
    "    elif x == 'Diesel':\n",
    "        return 0\n",
    "    \n",
    "cars_new['fuel'] = cars_new['fuel'].map(ref3)"
   ]
  },
  {
   "cell_type": "code",
   "execution_count": 31,
   "id": "8e216f16",
   "metadata": {
    "execution": {
     "iopub.execute_input": "2023-01-17T10:07:07.614404Z",
     "iopub.status.busy": "2023-01-17T10:07:07.613878Z",
     "iopub.status.idle": "2023-01-17T10:07:07.627552Z",
     "shell.execute_reply": "2023-01-17T10:07:07.626780Z"
    },
    "papermill": {
     "duration": 0.031124,
     "end_time": "2023-01-17T10:07:07.629287",
     "exception": false,
     "start_time": "2023-01-17T10:07:07.598163",
     "status": "completed"
    },
    "tags": []
   },
   "outputs": [
    {
     "data": {
      "text/html": [
       "<div>\n",
       "<style scoped>\n",
       "    .dataframe tbody tr th:only-of-type {\n",
       "        vertical-align: middle;\n",
       "    }\n",
       "\n",
       "    .dataframe tbody tr th {\n",
       "        vertical-align: top;\n",
       "    }\n",
       "\n",
       "    .dataframe thead th {\n",
       "        text-align: right;\n",
       "    }\n",
       "</style>\n",
       "<table border=\"1\" class=\"dataframe\">\n",
       "  <thead>\n",
       "    <tr style=\"text-align: right;\">\n",
       "      <th></th>\n",
       "      <th>name</th>\n",
       "      <th>year</th>\n",
       "      <th>selling_price</th>\n",
       "      <th>km_driven</th>\n",
       "      <th>fuel</th>\n",
       "      <th>seller_type</th>\n",
       "      <th>transmission</th>\n",
       "      <th>owner</th>\n",
       "      <th>seats</th>\n",
       "      <th>torque_rpm</th>\n",
       "      <th>mil_kmpl</th>\n",
       "      <th>engine_cc</th>\n",
       "      <th>max_power_new</th>\n",
       "    </tr>\n",
       "  </thead>\n",
       "  <tbody>\n",
       "    <tr>\n",
       "      <th>0</th>\n",
       "      <td>Maruti Swift Dzire VDI</td>\n",
       "      <td>2014</td>\n",
       "      <td>450000</td>\n",
       "      <td>145500</td>\n",
       "      <td>0.0</td>\n",
       "      <td>1</td>\n",
       "      <td>1</td>\n",
       "      <td>First Owner</td>\n",
       "      <td>5.0</td>\n",
       "      <td>2000</td>\n",
       "      <td>23.40</td>\n",
       "      <td>1248.0</td>\n",
       "      <td>74.00</td>\n",
       "    </tr>\n",
       "    <tr>\n",
       "      <th>1</th>\n",
       "      <td>Skoda Rapid 1.5 TDI Ambition</td>\n",
       "      <td>2014</td>\n",
       "      <td>370000</td>\n",
       "      <td>120000</td>\n",
       "      <td>0.0</td>\n",
       "      <td>1</td>\n",
       "      <td>1</td>\n",
       "      <td>Second Owner</td>\n",
       "      <td>5.0</td>\n",
       "      <td>2500</td>\n",
       "      <td>21.14</td>\n",
       "      <td>1498.0</td>\n",
       "      <td>103.52</td>\n",
       "    </tr>\n",
       "    <tr>\n",
       "      <th>2</th>\n",
       "      <td>Honda City 2017-2020 EXi</td>\n",
       "      <td>2006</td>\n",
       "      <td>158000</td>\n",
       "      <td>140000</td>\n",
       "      <td>1.0</td>\n",
       "      <td>1</td>\n",
       "      <td>1</td>\n",
       "      <td>Third Owner</td>\n",
       "      <td>5.0</td>\n",
       "      <td>2700</td>\n",
       "      <td>17.70</td>\n",
       "      <td>1497.0</td>\n",
       "      <td>78.00</td>\n",
       "    </tr>\n",
       "    <tr>\n",
       "      <th>3</th>\n",
       "      <td>Hyundai i20 Sportz Diesel</td>\n",
       "      <td>2010</td>\n",
       "      <td>225000</td>\n",
       "      <td>127000</td>\n",
       "      <td>0.0</td>\n",
       "      <td>1</td>\n",
       "      <td>1</td>\n",
       "      <td>First Owner</td>\n",
       "      <td>5.0</td>\n",
       "      <td>2750</td>\n",
       "      <td>23.00</td>\n",
       "      <td>1396.0</td>\n",
       "      <td>90.00</td>\n",
       "    </tr>\n",
       "    <tr>\n",
       "      <th>4</th>\n",
       "      <td>Maruti Swift VXI BSIII</td>\n",
       "      <td>2007</td>\n",
       "      <td>130000</td>\n",
       "      <td>120000</td>\n",
       "      <td>1.0</td>\n",
       "      <td>1</td>\n",
       "      <td>1</td>\n",
       "      <td>First Owner</td>\n",
       "      <td>5.0</td>\n",
       "      <td>4500</td>\n",
       "      <td>16.10</td>\n",
       "      <td>1298.0</td>\n",
       "      <td>88.20</td>\n",
       "    </tr>\n",
       "  </tbody>\n",
       "</table>\n",
       "</div>"
      ],
      "text/plain": [
       "                           name  year  selling_price  km_driven  fuel  \\\n",
       "0        Maruti Swift Dzire VDI  2014         450000     145500   0.0   \n",
       "1  Skoda Rapid 1.5 TDI Ambition  2014         370000     120000   0.0   \n",
       "2      Honda City 2017-2020 EXi  2006         158000     140000   1.0   \n",
       "3     Hyundai i20 Sportz Diesel  2010         225000     127000   0.0   \n",
       "4        Maruti Swift VXI BSIII  2007         130000     120000   1.0   \n",
       "\n",
       "   seller_type  transmission         owner  seats  torque_rpm  mil_kmpl  \\\n",
       "0            1             1   First Owner    5.0        2000     23.40   \n",
       "1            1             1  Second Owner    5.0        2500     21.14   \n",
       "2            1             1   Third Owner    5.0        2700     17.70   \n",
       "3            1             1   First Owner    5.0        2750     23.00   \n",
       "4            1             1   First Owner    5.0        4500     16.10   \n",
       "\n",
       "   engine_cc  max_power_new  \n",
       "0     1248.0          74.00  \n",
       "1     1498.0         103.52  \n",
       "2     1497.0          78.00  \n",
       "3     1396.0          90.00  \n",
       "4     1298.0          88.20  "
      ]
     },
     "execution_count": 31,
     "metadata": {},
     "output_type": "execute_result"
    }
   ],
   "source": [
    "cars_new[:5]"
   ]
  },
  {
   "cell_type": "code",
   "execution_count": 32,
   "id": "b41d7a1a",
   "metadata": {
    "execution": {
     "iopub.execute_input": "2023-01-17T10:07:07.664057Z",
     "iopub.status.busy": "2023-01-17T10:07:07.663466Z",
     "iopub.status.idle": "2023-01-17T10:07:07.672862Z",
     "shell.execute_reply": "2023-01-17T10:07:07.671703Z"
    },
    "papermill": {
     "duration": 0.029928,
     "end_time": "2023-01-17T10:07:07.675048",
     "exception": false,
     "start_time": "2023-01-17T10:07:07.645120",
     "status": "completed"
    },
    "tags": []
   },
   "outputs": [
    {
     "data": {
      "text/plain": [
       "name              0\n",
       "year              0\n",
       "selling_price     0\n",
       "km_driven         0\n",
       "fuel             87\n",
       "seller_type       0\n",
       "transmission      0\n",
       "owner             0\n",
       "seats             0\n",
       "torque_rpm        0\n",
       "mil_kmpl          0\n",
       "engine_cc         0\n",
       "max_power_new     0\n",
       "dtype: int64"
      ]
     },
     "execution_count": 32,
     "metadata": {},
     "output_type": "execute_result"
    }
   ],
   "source": [
    "cars_new.isnull().sum()"
   ]
  },
  {
   "cell_type": "code",
   "execution_count": 33,
   "id": "c3dc6155",
   "metadata": {
    "execution": {
     "iopub.execute_input": "2023-01-17T10:07:07.708095Z",
     "iopub.status.busy": "2023-01-17T10:07:07.707799Z",
     "iopub.status.idle": "2023-01-17T10:07:07.720358Z",
     "shell.execute_reply": "2023-01-17T10:07:07.719744Z"
    },
    "papermill": {
     "duration": 0.032839,
     "end_time": "2023-01-17T10:07:07.723665",
     "exception": false,
     "start_time": "2023-01-17T10:07:07.690826",
     "status": "completed"
    },
    "tags": []
   },
   "outputs": [
    {
     "data": {
      "text/plain": [
       "name             0\n",
       "year             0\n",
       "selling_price    0\n",
       "km_driven        0\n",
       "fuel             0\n",
       "seller_type      0\n",
       "transmission     0\n",
       "owner            0\n",
       "seats            0\n",
       "torque_rpm       0\n",
       "mil_kmpl         0\n",
       "engine_cc        0\n",
       "max_power_new    0\n",
       "dtype: int64"
      ]
     },
     "execution_count": 33,
     "metadata": {},
     "output_type": "execute_result"
    }
   ],
   "source": [
    "cars_new = cars_new.dropna()\n",
    "cars_new.isnull().sum()"
   ]
  },
  {
   "cell_type": "markdown",
   "id": "a96a2315",
   "metadata": {
    "papermill": {
     "duration": 0.022255,
     "end_time": "2023-01-17T10:07:07.765051",
     "exception": false,
     "start_time": "2023-01-17T10:07:07.742796",
     "status": "completed"
    },
    "tags": []
   },
   "source": [
    "**owner Feature**"
   ]
  },
  {
   "cell_type": "code",
   "execution_count": 34,
   "id": "f66fa7cf",
   "metadata": {
    "execution": {
     "iopub.execute_input": "2023-01-17T10:07:07.799430Z",
     "iopub.status.busy": "2023-01-17T10:07:07.798853Z",
     "iopub.status.idle": "2023-01-17T10:07:07.807589Z",
     "shell.execute_reply": "2023-01-17T10:07:07.806904Z"
    },
    "papermill": {
     "duration": 0.027963,
     "end_time": "2023-01-17T10:07:07.809944",
     "exception": false,
     "start_time": "2023-01-17T10:07:07.781981",
     "status": "completed"
    },
    "tags": []
   },
   "outputs": [],
   "source": [
    "owners = pd.get_dummies(cars_new['owner'])\n",
    "X = pd.concat([cars_new, owners], axis=1)"
   ]
  },
  {
   "cell_type": "code",
   "execution_count": 35,
   "id": "a30027c5",
   "metadata": {
    "execution": {
     "iopub.execute_input": "2023-01-17T10:07:07.841948Z",
     "iopub.status.busy": "2023-01-17T10:07:07.841520Z",
     "iopub.status.idle": "2023-01-17T10:07:07.858108Z",
     "shell.execute_reply": "2023-01-17T10:07:07.857351Z"
    },
    "papermill": {
     "duration": 0.034228,
     "end_time": "2023-01-17T10:07:07.859575",
     "exception": false,
     "start_time": "2023-01-17T10:07:07.825347",
     "status": "completed"
    },
    "tags": []
   },
   "outputs": [
    {
     "data": {
      "text/html": [
       "<div>\n",
       "<style scoped>\n",
       "    .dataframe tbody tr th:only-of-type {\n",
       "        vertical-align: middle;\n",
       "    }\n",
       "\n",
       "    .dataframe tbody tr th {\n",
       "        vertical-align: top;\n",
       "    }\n",
       "\n",
       "    .dataframe thead th {\n",
       "        text-align: right;\n",
       "    }\n",
       "</style>\n",
       "<table border=\"1\" class=\"dataframe\">\n",
       "  <thead>\n",
       "    <tr style=\"text-align: right;\">\n",
       "      <th></th>\n",
       "      <th>name</th>\n",
       "      <th>year</th>\n",
       "      <th>selling_price</th>\n",
       "      <th>km_driven</th>\n",
       "      <th>fuel</th>\n",
       "      <th>seller_type</th>\n",
       "      <th>transmission</th>\n",
       "      <th>owner</th>\n",
       "      <th>seats</th>\n",
       "      <th>torque_rpm</th>\n",
       "      <th>mil_kmpl</th>\n",
       "      <th>engine_cc</th>\n",
       "      <th>max_power_new</th>\n",
       "      <th>First Owner</th>\n",
       "      <th>Fourth &amp; Above Owner</th>\n",
       "      <th>Second Owner</th>\n",
       "      <th>Test Drive Car</th>\n",
       "      <th>Third Owner</th>\n",
       "    </tr>\n",
       "  </thead>\n",
       "  <tbody>\n",
       "    <tr>\n",
       "      <th>0</th>\n",
       "      <td>Maruti Swift Dzire VDI</td>\n",
       "      <td>2014</td>\n",
       "      <td>450000</td>\n",
       "      <td>145500</td>\n",
       "      <td>0.0</td>\n",
       "      <td>1</td>\n",
       "      <td>1</td>\n",
       "      <td>First Owner</td>\n",
       "      <td>5.0</td>\n",
       "      <td>2000</td>\n",
       "      <td>23.40</td>\n",
       "      <td>1248.0</td>\n",
       "      <td>74.00</td>\n",
       "      <td>1</td>\n",
       "      <td>0</td>\n",
       "      <td>0</td>\n",
       "      <td>0</td>\n",
       "      <td>0</td>\n",
       "    </tr>\n",
       "    <tr>\n",
       "      <th>1</th>\n",
       "      <td>Skoda Rapid 1.5 TDI Ambition</td>\n",
       "      <td>2014</td>\n",
       "      <td>370000</td>\n",
       "      <td>120000</td>\n",
       "      <td>0.0</td>\n",
       "      <td>1</td>\n",
       "      <td>1</td>\n",
       "      <td>Second Owner</td>\n",
       "      <td>5.0</td>\n",
       "      <td>2500</td>\n",
       "      <td>21.14</td>\n",
       "      <td>1498.0</td>\n",
       "      <td>103.52</td>\n",
       "      <td>0</td>\n",
       "      <td>0</td>\n",
       "      <td>1</td>\n",
       "      <td>0</td>\n",
       "      <td>0</td>\n",
       "    </tr>\n",
       "    <tr>\n",
       "      <th>2</th>\n",
       "      <td>Honda City 2017-2020 EXi</td>\n",
       "      <td>2006</td>\n",
       "      <td>158000</td>\n",
       "      <td>140000</td>\n",
       "      <td>1.0</td>\n",
       "      <td>1</td>\n",
       "      <td>1</td>\n",
       "      <td>Third Owner</td>\n",
       "      <td>5.0</td>\n",
       "      <td>2700</td>\n",
       "      <td>17.70</td>\n",
       "      <td>1497.0</td>\n",
       "      <td>78.00</td>\n",
       "      <td>0</td>\n",
       "      <td>0</td>\n",
       "      <td>0</td>\n",
       "      <td>0</td>\n",
       "      <td>1</td>\n",
       "    </tr>\n",
       "    <tr>\n",
       "      <th>3</th>\n",
       "      <td>Hyundai i20 Sportz Diesel</td>\n",
       "      <td>2010</td>\n",
       "      <td>225000</td>\n",
       "      <td>127000</td>\n",
       "      <td>0.0</td>\n",
       "      <td>1</td>\n",
       "      <td>1</td>\n",
       "      <td>First Owner</td>\n",
       "      <td>5.0</td>\n",
       "      <td>2750</td>\n",
       "      <td>23.00</td>\n",
       "      <td>1396.0</td>\n",
       "      <td>90.00</td>\n",
       "      <td>1</td>\n",
       "      <td>0</td>\n",
       "      <td>0</td>\n",
       "      <td>0</td>\n",
       "      <td>0</td>\n",
       "    </tr>\n",
       "    <tr>\n",
       "      <th>4</th>\n",
       "      <td>Maruti Swift VXI BSIII</td>\n",
       "      <td>2007</td>\n",
       "      <td>130000</td>\n",
       "      <td>120000</td>\n",
       "      <td>1.0</td>\n",
       "      <td>1</td>\n",
       "      <td>1</td>\n",
       "      <td>First Owner</td>\n",
       "      <td>5.0</td>\n",
       "      <td>4500</td>\n",
       "      <td>16.10</td>\n",
       "      <td>1298.0</td>\n",
       "      <td>88.20</td>\n",
       "      <td>1</td>\n",
       "      <td>0</td>\n",
       "      <td>0</td>\n",
       "      <td>0</td>\n",
       "      <td>0</td>\n",
       "    </tr>\n",
       "  </tbody>\n",
       "</table>\n",
       "</div>"
      ],
      "text/plain": [
       "                           name  year  selling_price  km_driven  fuel  \\\n",
       "0        Maruti Swift Dzire VDI  2014         450000     145500   0.0   \n",
       "1  Skoda Rapid 1.5 TDI Ambition  2014         370000     120000   0.0   \n",
       "2      Honda City 2017-2020 EXi  2006         158000     140000   1.0   \n",
       "3     Hyundai i20 Sportz Diesel  2010         225000     127000   0.0   \n",
       "4        Maruti Swift VXI BSIII  2007         130000     120000   1.0   \n",
       "\n",
       "   seller_type  transmission         owner  seats  torque_rpm  mil_kmpl  \\\n",
       "0            1             1   First Owner    5.0        2000     23.40   \n",
       "1            1             1  Second Owner    5.0        2500     21.14   \n",
       "2            1             1   Third Owner    5.0        2700     17.70   \n",
       "3            1             1   First Owner    5.0        2750     23.00   \n",
       "4            1             1   First Owner    5.0        4500     16.10   \n",
       "\n",
       "   engine_cc  max_power_new  First Owner  Fourth & Above Owner  Second Owner  \\\n",
       "0     1248.0          74.00            1                     0             0   \n",
       "1     1498.0         103.52            0                     0             1   \n",
       "2     1497.0          78.00            0                     0             0   \n",
       "3     1396.0          90.00            1                     0             0   \n",
       "4     1298.0          88.20            1                     0             0   \n",
       "\n",
       "   Test Drive Car  Third Owner  \n",
       "0               0            0  \n",
       "1               0            0  \n",
       "2               0            1  \n",
       "3               0            0  \n",
       "4               0            0  "
      ]
     },
     "execution_count": 35,
     "metadata": {},
     "output_type": "execute_result"
    }
   ],
   "source": [
    "X.head()"
   ]
  },
  {
   "cell_type": "code",
   "execution_count": 36,
   "id": "32e0072e",
   "metadata": {
    "execution": {
     "iopub.execute_input": "2023-01-17T10:07:07.891345Z",
     "iopub.status.busy": "2023-01-17T10:07:07.890723Z",
     "iopub.status.idle": "2023-01-17T10:07:07.898528Z",
     "shell.execute_reply": "2023-01-17T10:07:07.897688Z"
    },
    "papermill": {
     "duration": 0.025919,
     "end_time": "2023-01-17T10:07:07.900185",
     "exception": false,
     "start_time": "2023-01-17T10:07:07.874266",
     "status": "completed"
    },
    "tags": []
   },
   "outputs": [
    {
     "data": {
      "text/plain": [
       "0"
      ]
     },
     "execution_count": 36,
     "metadata": {},
     "output_type": "execute_result"
    }
   ],
   "source": [
    "X.isnull().sum().sum()"
   ]
  },
  {
   "cell_type": "code",
   "execution_count": 37,
   "id": "22036659",
   "metadata": {
    "execution": {
     "iopub.execute_input": "2023-01-17T10:07:07.931859Z",
     "iopub.status.busy": "2023-01-17T10:07:07.931214Z",
     "iopub.status.idle": "2023-01-17T10:07:07.937167Z",
     "shell.execute_reply": "2023-01-17T10:07:07.936580Z"
    },
    "papermill": {
     "duration": 0.0237,
     "end_time": "2023-01-17T10:07:07.938947",
     "exception": false,
     "start_time": "2023-01-17T10:07:07.915247",
     "status": "completed"
    },
    "tags": []
   },
   "outputs": [],
   "source": [
    "y = X['selling_price']\n",
    "X = X.drop(['selling_price', 'name', 'owner'],axis=1)"
   ]
  },
  {
   "cell_type": "code",
   "execution_count": 38,
   "id": "7f65af4d",
   "metadata": {
    "execution": {
     "iopub.execute_input": "2023-01-17T10:07:07.970774Z",
     "iopub.status.busy": "2023-01-17T10:07:07.969381Z",
     "iopub.status.idle": "2023-01-17T10:07:07.983866Z",
     "shell.execute_reply": "2023-01-17T10:07:07.983081Z"
    },
    "papermill": {
     "duration": 0.031587,
     "end_time": "2023-01-17T10:07:07.985525",
     "exception": false,
     "start_time": "2023-01-17T10:07:07.953938",
     "status": "completed"
    },
    "tags": []
   },
   "outputs": [
    {
     "data": {
      "text/html": [
       "<div>\n",
       "<style scoped>\n",
       "    .dataframe tbody tr th:only-of-type {\n",
       "        vertical-align: middle;\n",
       "    }\n",
       "\n",
       "    .dataframe tbody tr th {\n",
       "        vertical-align: top;\n",
       "    }\n",
       "\n",
       "    .dataframe thead th {\n",
       "        text-align: right;\n",
       "    }\n",
       "</style>\n",
       "<table border=\"1\" class=\"dataframe\">\n",
       "  <thead>\n",
       "    <tr style=\"text-align: right;\">\n",
       "      <th></th>\n",
       "      <th>year</th>\n",
       "      <th>km_driven</th>\n",
       "      <th>fuel</th>\n",
       "      <th>seller_type</th>\n",
       "      <th>transmission</th>\n",
       "      <th>seats</th>\n",
       "      <th>torque_rpm</th>\n",
       "      <th>mil_kmpl</th>\n",
       "      <th>engine_cc</th>\n",
       "      <th>max_power_new</th>\n",
       "      <th>First Owner</th>\n",
       "      <th>Fourth &amp; Above Owner</th>\n",
       "      <th>Second Owner</th>\n",
       "      <th>Test Drive Car</th>\n",
       "      <th>Third Owner</th>\n",
       "    </tr>\n",
       "  </thead>\n",
       "  <tbody>\n",
       "    <tr>\n",
       "      <th>0</th>\n",
       "      <td>2014</td>\n",
       "      <td>145500</td>\n",
       "      <td>0.0</td>\n",
       "      <td>1</td>\n",
       "      <td>1</td>\n",
       "      <td>5.0</td>\n",
       "      <td>2000</td>\n",
       "      <td>23.40</td>\n",
       "      <td>1248.0</td>\n",
       "      <td>74.00</td>\n",
       "      <td>1</td>\n",
       "      <td>0</td>\n",
       "      <td>0</td>\n",
       "      <td>0</td>\n",
       "      <td>0</td>\n",
       "    </tr>\n",
       "    <tr>\n",
       "      <th>1</th>\n",
       "      <td>2014</td>\n",
       "      <td>120000</td>\n",
       "      <td>0.0</td>\n",
       "      <td>1</td>\n",
       "      <td>1</td>\n",
       "      <td>5.0</td>\n",
       "      <td>2500</td>\n",
       "      <td>21.14</td>\n",
       "      <td>1498.0</td>\n",
       "      <td>103.52</td>\n",
       "      <td>0</td>\n",
       "      <td>0</td>\n",
       "      <td>1</td>\n",
       "      <td>0</td>\n",
       "      <td>0</td>\n",
       "    </tr>\n",
       "    <tr>\n",
       "      <th>2</th>\n",
       "      <td>2006</td>\n",
       "      <td>140000</td>\n",
       "      <td>1.0</td>\n",
       "      <td>1</td>\n",
       "      <td>1</td>\n",
       "      <td>5.0</td>\n",
       "      <td>2700</td>\n",
       "      <td>17.70</td>\n",
       "      <td>1497.0</td>\n",
       "      <td>78.00</td>\n",
       "      <td>0</td>\n",
       "      <td>0</td>\n",
       "      <td>0</td>\n",
       "      <td>0</td>\n",
       "      <td>1</td>\n",
       "    </tr>\n",
       "    <tr>\n",
       "      <th>3</th>\n",
       "      <td>2010</td>\n",
       "      <td>127000</td>\n",
       "      <td>0.0</td>\n",
       "      <td>1</td>\n",
       "      <td>1</td>\n",
       "      <td>5.0</td>\n",
       "      <td>2750</td>\n",
       "      <td>23.00</td>\n",
       "      <td>1396.0</td>\n",
       "      <td>90.00</td>\n",
       "      <td>1</td>\n",
       "      <td>0</td>\n",
       "      <td>0</td>\n",
       "      <td>0</td>\n",
       "      <td>0</td>\n",
       "    </tr>\n",
       "    <tr>\n",
       "      <th>4</th>\n",
       "      <td>2007</td>\n",
       "      <td>120000</td>\n",
       "      <td>1.0</td>\n",
       "      <td>1</td>\n",
       "      <td>1</td>\n",
       "      <td>5.0</td>\n",
       "      <td>4500</td>\n",
       "      <td>16.10</td>\n",
       "      <td>1298.0</td>\n",
       "      <td>88.20</td>\n",
       "      <td>1</td>\n",
       "      <td>0</td>\n",
       "      <td>0</td>\n",
       "      <td>0</td>\n",
       "      <td>0</td>\n",
       "    </tr>\n",
       "  </tbody>\n",
       "</table>\n",
       "</div>"
      ],
      "text/plain": [
       "   year  km_driven  fuel  seller_type  transmission  seats  torque_rpm  \\\n",
       "0  2014     145500   0.0            1             1    5.0        2000   \n",
       "1  2014     120000   0.0            1             1    5.0        2500   \n",
       "2  2006     140000   1.0            1             1    5.0        2700   \n",
       "3  2010     127000   0.0            1             1    5.0        2750   \n",
       "4  2007     120000   1.0            1             1    5.0        4500   \n",
       "\n",
       "   mil_kmpl  engine_cc  max_power_new  First Owner  Fourth & Above Owner  \\\n",
       "0     23.40     1248.0          74.00            1                     0   \n",
       "1     21.14     1498.0         103.52            0                     0   \n",
       "2     17.70     1497.0          78.00            0                     0   \n",
       "3     23.00     1396.0          90.00            1                     0   \n",
       "4     16.10     1298.0          88.20            1                     0   \n",
       "\n",
       "   Second Owner  Test Drive Car  Third Owner  \n",
       "0             0               0            0  \n",
       "1             1               0            0  \n",
       "2             0               0            1  \n",
       "3             0               0            0  \n",
       "4             0               0            0  "
      ]
     },
     "execution_count": 38,
     "metadata": {},
     "output_type": "execute_result"
    }
   ],
   "source": [
    "X.head()"
   ]
  },
  {
   "cell_type": "code",
   "execution_count": 39,
   "id": "ffe703f6",
   "metadata": {
    "execution": {
     "iopub.execute_input": "2023-01-17T10:07:08.019243Z",
     "iopub.status.busy": "2023-01-17T10:07:08.018964Z",
     "iopub.status.idle": "2023-01-17T10:07:08.024524Z",
     "shell.execute_reply": "2023-01-17T10:07:08.023671Z"
    },
    "papermill": {
     "duration": 0.024594,
     "end_time": "2023-01-17T10:07:08.026847",
     "exception": false,
     "start_time": "2023-01-17T10:07:08.002253",
     "status": "completed"
    },
    "tags": []
   },
   "outputs": [
    {
     "data": {
      "text/plain": [
       "(7819, 15)"
      ]
     },
     "execution_count": 39,
     "metadata": {},
     "output_type": "execute_result"
    }
   ],
   "source": [
    "X.shape"
   ]
  },
  {
   "cell_type": "code",
   "execution_count": null,
   "id": "cc5b2b65",
   "metadata": {
    "papermill": {
     "duration": 0.015508,
     "end_time": "2023-01-17T10:07:08.058581",
     "exception": false,
     "start_time": "2023-01-17T10:07:08.043073",
     "status": "completed"
    },
    "tags": []
   },
   "outputs": [],
   "source": []
  },
  {
   "cell_type": "markdown",
   "id": "93ea7349",
   "metadata": {
    "papermill": {
     "duration": 0.015881,
     "end_time": "2023-01-17T10:07:08.090548",
     "exception": false,
     "start_time": "2023-01-17T10:07:08.074667",
     "status": "completed"
    },
    "tags": []
   },
   "source": [
    "## Models"
   ]
  },
  {
   "cell_type": "code",
   "execution_count": 40,
   "id": "8d7bd5ab",
   "metadata": {
    "execution": {
     "iopub.execute_input": "2023-01-17T10:07:08.125930Z",
     "iopub.status.busy": "2023-01-17T10:07:08.124761Z",
     "iopub.status.idle": "2023-01-17T10:07:08.583071Z",
     "shell.execute_reply": "2023-01-17T10:07:08.581828Z"
    },
    "papermill": {
     "duration": 0.478367,
     "end_time": "2023-01-17T10:07:08.585456",
     "exception": false,
     "start_time": "2023-01-17T10:07:08.107089",
     "status": "completed"
    },
    "tags": []
   },
   "outputs": [],
   "source": [
    "from sklearn.model_selection import train_test_split\n",
    "from sklearn.metrics import accuracy_score\n",
    "from sklearn.linear_model import LinearRegression\n",
    "from sklearn.ensemble import RandomForestRegressor\n",
    "from sklearn.decomposition import PCA"
   ]
  },
  {
   "cell_type": "code",
   "execution_count": 41,
   "id": "b447a671",
   "metadata": {
    "execution": {
     "iopub.execute_input": "2023-01-17T10:07:08.618658Z",
     "iopub.status.busy": "2023-01-17T10:07:08.618349Z",
     "iopub.status.idle": "2023-01-17T10:07:08.625815Z",
     "shell.execute_reply": "2023-01-17T10:07:08.625029Z"
    },
    "papermill": {
     "duration": 0.026486,
     "end_time": "2023-01-17T10:07:08.628067",
     "exception": false,
     "start_time": "2023-01-17T10:07:08.601581",
     "status": "completed"
    },
    "tags": []
   },
   "outputs": [],
   "source": [
    "X_train, X_test, y_train, y_test = train_test_split(X, y, test_size=0.2)"
   ]
  },
  {
   "cell_type": "code",
   "execution_count": 42,
   "id": "7f09a162",
   "metadata": {
    "execution": {
     "iopub.execute_input": "2023-01-17T10:07:08.663077Z",
     "iopub.status.busy": "2023-01-17T10:07:08.662557Z",
     "iopub.status.idle": "2023-01-17T10:07:08.667214Z",
     "shell.execute_reply": "2023-01-17T10:07:08.666739Z"
    },
    "papermill": {
     "duration": 0.024097,
     "end_time": "2023-01-17T10:07:08.668586",
     "exception": false,
     "start_time": "2023-01-17T10:07:08.644489",
     "status": "completed"
    },
    "tags": []
   },
   "outputs": [
    {
     "data": {
      "text/plain": [
       "((6255, 15), (1564, 15), (6255,), (1564,))"
      ]
     },
     "execution_count": 42,
     "metadata": {},
     "output_type": "execute_result"
    }
   ],
   "source": [
    "X_train.shape, X_test.shape, y_train.shape, y_test.shape"
   ]
  },
  {
   "cell_type": "code",
   "execution_count": 43,
   "id": "acd42712",
   "metadata": {
    "execution": {
     "iopub.execute_input": "2023-01-17T10:07:08.704541Z",
     "iopub.status.busy": "2023-01-17T10:07:08.704005Z",
     "iopub.status.idle": "2023-01-17T10:07:08.707536Z",
     "shell.execute_reply": "2023-01-17T10:07:08.707003Z"
    },
    "papermill": {
     "duration": 0.023718,
     "end_time": "2023-01-17T10:07:08.709662",
     "exception": false,
     "start_time": "2023-01-17T10:07:08.685944",
     "status": "completed"
    },
    "tags": []
   },
   "outputs": [],
   "source": [
    "rfr = RandomForestRegressor(n_estimators=300, random_state=42, n_jobs=-1)"
   ]
  },
  {
   "cell_type": "code",
   "execution_count": 44,
   "id": "37794d7c",
   "metadata": {
    "execution": {
     "iopub.execute_input": "2023-01-17T10:07:08.744741Z",
     "iopub.status.busy": "2023-01-17T10:07:08.744196Z",
     "iopub.status.idle": "2023-01-17T10:07:10.760607Z",
     "shell.execute_reply": "2023-01-17T10:07:10.759431Z"
    },
    "papermill": {
     "duration": 2.036786,
     "end_time": "2023-01-17T10:07:10.763085",
     "exception": false,
     "start_time": "2023-01-17T10:07:08.726299",
     "status": "completed"
    },
    "tags": []
   },
   "outputs": [
    {
     "data": {
      "text/plain": [
       "RandomForestRegressor(n_estimators=300, n_jobs=-1, random_state=42)"
      ]
     },
     "execution_count": 44,
     "metadata": {},
     "output_type": "execute_result"
    }
   ],
   "source": [
    "rfr.fit(X_train,y_train)"
   ]
  },
  {
   "cell_type": "code",
   "execution_count": 45,
   "id": "175c6030",
   "metadata": {
    "execution": {
     "iopub.execute_input": "2023-01-17T10:07:10.798410Z",
     "iopub.status.busy": "2023-01-17T10:07:10.798109Z",
     "iopub.status.idle": "2023-01-17T10:07:11.215226Z",
     "shell.execute_reply": "2023-01-17T10:07:11.214001Z"
    },
    "papermill": {
     "duration": 0.437394,
     "end_time": "2023-01-17T10:07:11.217549",
     "exception": false,
     "start_time": "2023-01-17T10:07:10.780155",
     "status": "completed"
    },
    "tags": []
   },
   "outputs": [
    {
     "name": "stdout",
     "output_type": "stream",
     "text": [
      "99.55 %\n"
     ]
    }
   ],
   "source": [
    "y_pred = rfr.predict(X_test)\n",
    "\n",
    "# checking the accuracy\n",
    "rfr_train_accuracy = round(rfr.score(X_train, y_train)*100, 2)\n",
    "print(round(rfr_train_accuracy, 2), '%')"
   ]
  },
  {
   "cell_type": "code",
   "execution_count": 46,
   "id": "83996366",
   "metadata": {
    "execution": {
     "iopub.execute_input": "2023-01-17T10:07:11.254858Z",
     "iopub.status.busy": "2023-01-17T10:07:11.253648Z",
     "iopub.status.idle": "2023-01-17T10:07:11.365699Z",
     "shell.execute_reply": "2023-01-17T10:07:11.364336Z"
    },
    "papermill": {
     "duration": 0.133458,
     "end_time": "2023-01-17T10:07:11.369213",
     "exception": false,
     "start_time": "2023-01-17T10:07:11.235755",
     "status": "completed"
    },
    "tags": []
   },
   "outputs": [
    {
     "name": "stdout",
     "output_type": "stream",
     "text": [
      "96.42 %\n"
     ]
    }
   ],
   "source": [
    "rfr_test_accuracy = round(rfr.score(X_test, y_test)*100, 2)\n",
    "print(round(rfr_test_accuracy, 2), '%')"
   ]
  },
  {
   "cell_type": "code",
   "execution_count": 47,
   "id": "965f32e9",
   "metadata": {
    "execution": {
     "iopub.execute_input": "2023-01-17T10:07:11.406485Z",
     "iopub.status.busy": "2023-01-17T10:07:11.406153Z",
     "iopub.status.idle": "2023-01-17T10:07:11.440443Z",
     "shell.execute_reply": "2023-01-17T10:07:11.439358Z"
    },
    "papermill": {
     "duration": 0.055256,
     "end_time": "2023-01-17T10:07:11.442600",
     "exception": false,
     "start_time": "2023-01-17T10:07:11.387344",
     "status": "completed"
    },
    "tags": []
   },
   "outputs": [
    {
     "data": {
      "text/plain": [
       "LinearRegression()"
      ]
     },
     "execution_count": 47,
     "metadata": {},
     "output_type": "execute_result"
    }
   ],
   "source": [
    "reg = LinearRegression()\n",
    "\n",
    "reg.fit(X_train, y_train)"
   ]
  },
  {
   "cell_type": "code",
   "execution_count": 48,
   "id": "2bfff280",
   "metadata": {
    "execution": {
     "iopub.execute_input": "2023-01-17T10:07:11.491594Z",
     "iopub.status.busy": "2023-01-17T10:07:11.491250Z",
     "iopub.status.idle": "2023-01-17T10:07:11.502016Z",
     "shell.execute_reply": "2023-01-17T10:07:11.501200Z"
    },
    "papermill": {
     "duration": 0.037103,
     "end_time": "2023-01-17T10:07:11.503945",
     "exception": false,
     "start_time": "2023-01-17T10:07:11.466842",
     "status": "completed"
    },
    "tags": []
   },
   "outputs": [
    {
     "name": "stdout",
     "output_type": "stream",
     "text": [
      "0.7\n"
     ]
    }
   ],
   "source": [
    "print(round(reg.score(X_train, y_train), 2))"
   ]
  },
  {
   "cell_type": "code",
   "execution_count": 49,
   "id": "db769ae1",
   "metadata": {
    "execution": {
     "iopub.execute_input": "2023-01-17T10:07:11.568814Z",
     "iopub.status.busy": "2023-01-17T10:07:11.568472Z",
     "iopub.status.idle": "2023-01-17T10:07:11.578312Z",
     "shell.execute_reply": "2023-01-17T10:07:11.577088Z"
    },
    "papermill": {
     "duration": 0.036788,
     "end_time": "2023-01-17T10:07:11.580297",
     "exception": false,
     "start_time": "2023-01-17T10:07:11.543509",
     "status": "completed"
    },
    "tags": []
   },
   "outputs": [
    {
     "name": "stdout",
     "output_type": "stream",
     "text": [
      "0.65\n"
     ]
    }
   ],
   "source": [
    "print(round(reg.score(X_test, y_test), 2))"
   ]
  },
  {
   "cell_type": "markdown",
   "id": "60554904",
   "metadata": {
    "papermill": {
     "duration": 0.024407,
     "end_time": "2023-01-17T10:07:11.629105",
     "exception": false,
     "start_time": "2023-01-17T10:07:11.604698",
     "status": "completed"
    },
    "tags": []
   },
   "source": [
    "## Saving the model"
   ]
  },
  {
   "cell_type": "markdown",
   "id": "88b8883a",
   "metadata": {
    "papermill": {
     "duration": 0.022701,
     "end_time": "2023-01-17T10:07:11.674483",
     "exception": false,
     "start_time": "2023-01-17T10:07:11.651782",
     "status": "completed"
    },
    "tags": []
   },
   "source": [
    "**Save to pickled file using joblib**"
   ]
  },
  {
   "cell_type": "code",
   "execution_count": 50,
   "id": "7eab84b3",
   "metadata": {
    "execution": {
     "iopub.execute_input": "2023-01-17T10:07:11.714331Z",
     "iopub.status.busy": "2023-01-17T10:07:11.714026Z",
     "iopub.status.idle": "2023-01-17T10:07:11.929139Z",
     "shell.execute_reply": "2023-01-17T10:07:11.928090Z"
    },
    "papermill": {
     "duration": 0.234835,
     "end_time": "2023-01-17T10:07:11.931340",
     "exception": false,
     "start_time": "2023-01-17T10:07:11.696505",
     "status": "completed"
    },
    "tags": []
   },
   "outputs": [
    {
     "data": {
      "text/plain": [
       "['filename.pkl']"
      ]
     },
     "execution_count": 50,
     "metadata": {},
     "output_type": "execute_result"
    }
   ],
   "source": [
    "\n",
    "from joblib import Parallel, delayed\n",
    "import joblib\n",
    "  \n",
    "  \n",
    "# Save the model as a pickle in a file\n",
    "joblib.dump(rfr, 'filename.pkl')"
   ]
  },
  {
   "cell_type": "code",
   "execution_count": null,
   "id": "5a3bf392",
   "metadata": {
    "papermill": {
     "duration": 0.017016,
     "end_time": "2023-01-17T10:07:11.965677",
     "exception": false,
     "start_time": "2023-01-17T10:07:11.948661",
     "status": "completed"
    },
    "tags": []
   },
   "outputs": [],
   "source": []
  }
 ],
 "metadata": {
  "kernelspec": {
   "display_name": "Python 3",
   "language": "python",
   "name": "python3"
  },
  "language_info": {
   "codemirror_mode": {
    "name": "ipython",
    "version": 3
   },
   "file_extension": ".py",
   "mimetype": "text/x-python",
   "name": "python",
   "nbconvert_exporter": "python",
   "pygments_lexer": "ipython3",
   "version": "3.7.12"
  },
  "papermill": {
   "default_parameters": {},
   "duration": 15.790344,
   "end_time": "2023-01-17T10:07:12.703818",
   "environment_variables": {},
   "exception": null,
   "input_path": "__notebook__.ipynb",
   "output_path": "__notebook__.ipynb",
   "parameters": {},
   "start_time": "2023-01-17T10:06:56.913474",
   "version": "2.3.4"
  }
 },
 "nbformat": 4,
 "nbformat_minor": 5
}
